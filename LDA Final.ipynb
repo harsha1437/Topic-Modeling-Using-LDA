{
 "cells": [
  {
   "cell_type": "code",
   "execution_count": 1,
   "metadata": {},
   "outputs": [
    {
     "name": "stderr",
     "output_type": "stream",
     "text": [
      "[nltk_data] Downloading package stopwords to\n",
      "[nltk_data]     C:\\Users\\User\\AppData\\Roaming\\nltk_data...\n",
      "[nltk_data]   Package stopwords is already up-to-date!\n"
     ]
    },
    {
     "data": {
      "text/plain": [
       "True"
      ]
     },
     "execution_count": 1,
     "metadata": {},
     "output_type": "execute_result"
    }
   ],
   "source": [
    "import nltk\n",
    "nltk.download('stopwords')"
   ]
  },
  {
   "cell_type": "code",
   "execution_count": 3,
   "metadata": {},
   "outputs": [],
   "source": [
    "#pip install spacy download en"
   ]
  },
  {
   "cell_type": "code",
   "execution_count": 2,
   "metadata": {},
   "outputs": [],
   "source": [
    "import re\n",
    "import numpy as np\n",
    "import pandas as pd\n",
    "from pprint import pprint"
   ]
  },
  {
   "cell_type": "code",
   "execution_count": 3,
   "metadata": {},
   "outputs": [],
   "source": [
    "import gensim\n",
    "import gensim.corpora as corpora\n",
    "from gensim.utils import simple_preprocess\n",
    "from gensim.models import CoherenceModel"
   ]
  },
  {
   "cell_type": "code",
   "execution_count": 8,
   "metadata": {},
   "outputs": [],
   "source": [
    "#pip install spacy download en\n"
   ]
  },
  {
   "cell_type": "code",
   "execution_count": 4,
   "metadata": {},
   "outputs": [],
   "source": [
    "import pyLDAvis\n",
    "import pyLDAvis.gensim  # don't skip this"
   ]
  },
  {
   "cell_type": "code",
   "execution_count": 5,
   "metadata": {},
   "outputs": [],
   "source": [
    "import matplotlib.pyplot as plt\n",
    "%matplotlib inline"
   ]
  },
  {
   "cell_type": "code",
   "execution_count": 6,
   "metadata": {},
   "outputs": [],
   "source": [
    "import logging\n",
    "logging.basicConfig(format='%(asctime)s : %(levelname)s : %(message)s', level=logging.ERROR)"
   ]
  },
  {
   "cell_type": "code",
   "execution_count": 7,
   "metadata": {},
   "outputs": [],
   "source": [
    "import warnings\n",
    "warnings.filterwarnings(\"ignore\",category=DeprecationWarning)"
   ]
  },
  {
   "cell_type": "code",
   "execution_count": 8,
   "metadata": {},
   "outputs": [],
   "source": [
    "# NLTK Stop words\n",
    "from nltk.corpus import stopwords\n",
    "stop_words = stopwords.words('english')\n",
    "stop_words.extend(['from', 'subject', 're', 'edu', 'use'])"
   ]
  },
  {
   "cell_type": "code",
   "execution_count": 9,
   "metadata": {},
   "outputs": [
    {
     "name": "stdout",
     "output_type": "stream",
     "text": [
      "['rec.autos' 'comp.sys.mac.hardware' 'comp.graphics' 'sci.space'\n",
      " 'talk.politics.guns' 'sci.med' 'comp.sys.ibm.pc.hardware'\n",
      " 'comp.os.ms-windows.misc' 'rec.motorcycles' 'talk.religion.misc'\n",
      " 'misc.forsale' 'alt.atheism' 'sci.electronics' 'comp.windows.x'\n",
      " 'rec.sport.hockey' 'rec.sport.baseball' 'soc.religion.christian'\n",
      " 'talk.politics.mideast' 'talk.politics.misc' 'sci.crypt']\n"
     ]
    },
    {
     "data": {
      "text/html": [
       "<div>\n",
       "<style scoped>\n",
       "    .dataframe tbody tr th:only-of-type {\n",
       "        vertical-align: middle;\n",
       "    }\n",
       "\n",
       "    .dataframe tbody tr th {\n",
       "        vertical-align: top;\n",
       "    }\n",
       "\n",
       "    .dataframe thead th {\n",
       "        text-align: right;\n",
       "    }\n",
       "</style>\n",
       "<table border=\"1\" class=\"dataframe\">\n",
       "  <thead>\n",
       "    <tr style=\"text-align: right;\">\n",
       "      <th></th>\n",
       "      <th>content</th>\n",
       "      <th>target</th>\n",
       "      <th>target_names</th>\n",
       "    </tr>\n",
       "  </thead>\n",
       "  <tbody>\n",
       "    <tr>\n",
       "      <td>0</td>\n",
       "      <td>From: lerxst@wam.umd.edu (where's my thing)\\nS...</td>\n",
       "      <td>7</td>\n",
       "      <td>rec.autos</td>\n",
       "    </tr>\n",
       "    <tr>\n",
       "      <td>1</td>\n",
       "      <td>From: guykuo@carson.u.washington.edu (Guy Kuo)...</td>\n",
       "      <td>4</td>\n",
       "      <td>comp.sys.mac.hardware</td>\n",
       "    </tr>\n",
       "    <tr>\n",
       "      <td>2</td>\n",
       "      <td>From: twillis@ec.ecn.purdue.edu (Thomas E Will...</td>\n",
       "      <td>4</td>\n",
       "      <td>comp.sys.mac.hardware</td>\n",
       "    </tr>\n",
       "    <tr>\n",
       "      <td>3</td>\n",
       "      <td>From: jgreen@amber (Joe Green)\\nSubject: Re: W...</td>\n",
       "      <td>1</td>\n",
       "      <td>comp.graphics</td>\n",
       "    </tr>\n",
       "    <tr>\n",
       "      <td>4</td>\n",
       "      <td>From: jcm@head-cfa.harvard.edu (Jonathan McDow...</td>\n",
       "      <td>14</td>\n",
       "      <td>sci.space</td>\n",
       "    </tr>\n",
       "  </tbody>\n",
       "</table>\n",
       "</div>"
      ],
      "text/plain": [
       "                                             content  target  \\\n",
       "0  From: lerxst@wam.umd.edu (where's my thing)\\nS...       7   \n",
       "1  From: guykuo@carson.u.washington.edu (Guy Kuo)...       4   \n",
       "2  From: twillis@ec.ecn.purdue.edu (Thomas E Will...       4   \n",
       "3  From: jgreen@amber (Joe Green)\\nSubject: Re: W...       1   \n",
       "4  From: jcm@head-cfa.harvard.edu (Jonathan McDow...      14   \n",
       "\n",
       "            target_names  \n",
       "0              rec.autos  \n",
       "1  comp.sys.mac.hardware  \n",
       "2  comp.sys.mac.hardware  \n",
       "3          comp.graphics  \n",
       "4              sci.space  "
      ]
     },
     "execution_count": 9,
     "metadata": {},
     "output_type": "execute_result"
    }
   ],
   "source": [
    "# Import Dataset\n",
    "df = pd.read_json('C:/Users/User/Desktop/New LDA/newsgroups.json')\n",
    "print(df.target_names.unique())\n",
    "df.head()"
   ]
  },
  {
   "cell_type": "code",
   "execution_count": 10,
   "metadata": {},
   "outputs": [
    {
     "name": "stdout",
     "output_type": "stream",
     "text": [
      "['From: (wheres my thing) Subject: WHAT car is this!? Nntp-Posting-Host: '\n",
      " 'rac3.wam.umd.edu Organization: University of Maryland, College Park Lines: '\n",
      " '15 I was wondering if anyone out there could enlighten me on this car I saw '\n",
      " 'the other day. It was a 2-door sports car, looked to be from the late 60s/ '\n",
      " 'early 70s. It was called a Bricklin. The doors were really small. In '\n",
      " 'addition, the front bumper was separate from the rest of the body. This is '\n",
      " 'all I know. If anyone can tellme a model name, engine specs, years of '\n",
      " 'production, where this car is made, history, or whatever info you have on '\n",
      " 'this funky looking car, please e-mail. Thanks, - IL ---- brought to you by '\n",
      " 'your neighborhood Lerxst ---- ']\n"
     ]
    },
    {
     "data": {
      "text/plain": [
       "<bound method NDFrame.head of                                                  content  target  \\\n",
       "0      From: lerxst@wam.umd.edu (where's my thing)\\nS...       7   \n",
       "1      From: guykuo@carson.u.washington.edu (Guy Kuo)...       4   \n",
       "2      From: twillis@ec.ecn.purdue.edu (Thomas E Will...       4   \n",
       "3      From: jgreen@amber (Joe Green)\\nSubject: Re: W...       1   \n",
       "4      From: jcm@head-cfa.harvard.edu (Jonathan McDow...      14   \n",
       "...                                                  ...     ...   \n",
       "11309  From: jim.zisfein@factory.com (Jim Zisfein) \\n...      13   \n",
       "11310  From: ebodin@pearl.tufts.edu\\nSubject: Screen ...       4   \n",
       "11311  From: westes@netcom.com (Will Estes)\\nSubject:...       3   \n",
       "11312  From: steve@hcrlgw (Steven Collins)\\nSubject: ...       1   \n",
       "11313  From: gunning@cco.caltech.edu (Kevin J. Gunnin...       8   \n",
       "\n",
       "                   target_names  \n",
       "0                     rec.autos  \n",
       "1         comp.sys.mac.hardware  \n",
       "2         comp.sys.mac.hardware  \n",
       "3                 comp.graphics  \n",
       "4                     sci.space  \n",
       "...                         ...  \n",
       "11309                   sci.med  \n",
       "11310     comp.sys.mac.hardware  \n",
       "11311  comp.sys.ibm.pc.hardware  \n",
       "11312             comp.graphics  \n",
       "11313           rec.motorcycles  \n",
       "\n",
       "[11314 rows x 3 columns]>"
      ]
     },
     "execution_count": 10,
     "metadata": {},
     "output_type": "execute_result"
    }
   ],
   "source": [
    "# Convert to list\n",
    "data = df.content.values.tolist()\n",
    "\n",
    "# Remove Emails\n",
    "data = [re.sub('\\S*@\\S*\\s?', '', sent) for sent in data]\n",
    "\n",
    "# Remove new line characters\n",
    "data = [re.sub('\\s+', ' ', sent) for sent in data]\n",
    "\n",
    "# Remove distracting single quotes\n",
    "data = [re.sub(\"\\'\", \"\", sent) for sent in data]\n",
    "\n",
    "pprint(data[:1])\n",
    "df.head"
   ]
  },
  {
   "cell_type": "code",
   "execution_count": 15,
   "metadata": {},
   "outputs": [
    {
     "name": "stdout",
     "output_type": "stream",
     "text": [
      "[['from', 'wheres', 'my', 'thing', 'subject', 'what', 'car', 'is', 'this', 'nntp', 'posting', 'host', 'rac', 'wam', 'umd', 'edu', 'organization', 'university', 'of', 'maryland', 'college', 'park', 'lines', 'was', 'wondering', 'if', 'anyone', 'out', 'there', 'could', 'enlighten', 'me', 'on', 'this', 'car', 'saw', 'the', 'other', 'day', 'it', 'was', 'door', 'sports', 'car', 'looked', 'to', 'be', 'from', 'the', 'late', 'early', 'it', 'was', 'called', 'bricklin', 'the', 'doors', 'were', 'really', 'small', 'in', 'addition', 'the', 'front', 'bumper', 'was', 'separate', 'from', 'the', 'rest', 'of', 'the', 'body', 'this', 'is', 'all', 'know', 'if', 'anyone', 'can', 'tellme', 'model', 'name', 'engine', 'specs', 'years', 'of', 'production', 'where', 'this', 'car', 'is', 'made', 'history', 'or', 'whatever', 'info', 'you', 'have', 'on', 'this', 'funky', 'looking', 'car', 'please', 'mail', 'thanks', 'il', 'brought', 'to', 'you', 'by', 'your', 'neighborhood', 'lerxst']]\n"
     ]
    }
   ],
   "source": [
    "def sent_to_words(sentences):\n",
    "    for sentence in sentences:\n",
    "        yield(gensim.utils.simple_preprocess(str(sentence), deacc=True))  # deacc=True removes punctuations\n",
    "\n",
    "data_words = list(sent_to_words(data))\n",
    "\n",
    "print(data_words[:1])"
   ]
  },
  {
   "cell_type": "code",
   "execution_count": 16,
   "metadata": {},
   "outputs": [
    {
     "name": "stdout",
     "output_type": "stream",
     "text": [
      "['from', 'wheres', 'my', 'thing', 'subject', 'what', 'car', 'is', 'this', 'nntp_posting_host', 'rac_wam_umd_edu', 'organization', 'university', 'of', 'maryland_college_park', 'lines', 'was', 'wondering', 'if', 'anyone', 'out', 'there', 'could', 'enlighten', 'me', 'on', 'this', 'car', 'saw', 'the', 'other', 'day', 'it', 'was', 'door', 'sports', 'car', 'looked', 'to', 'be', 'from', 'the', 'late', 'early', 'it', 'was', 'called', 'bricklin', 'the', 'doors', 'were', 'really', 'small', 'in', 'addition', 'the', 'front_bumper', 'was', 'separate', 'from', 'the', 'rest', 'of', 'the', 'body', 'this', 'is', 'all', 'know', 'if', 'anyone', 'can', 'tellme', 'model', 'name', 'engine', 'specs', 'years', 'of', 'production', 'where', 'this', 'car', 'is', 'made', 'history', 'or', 'whatever', 'info', 'you', 'have', 'on', 'this', 'funky', 'looking', 'car', 'please', 'mail', 'thanks', 'il', 'brought', 'to', 'you', 'by', 'your', 'neighborhood', 'lerxst']\n"
     ]
    }
   ],
   "source": [
    "# Build the bigram and trigram models\n",
    "bigram = gensim.models.Phrases(data_words, min_count=5, threshold=100) # higher threshold fewer phrases.\n",
    "trigram = gensim.models.Phrases(bigram[data_words], threshold=100)  \n",
    "\n",
    "# Faster way to get a sentence clubbed as a trigram/bigram\n",
    "bigram_mod = gensim.models.phrases.Phraser(bigram)\n",
    "trigram_mod = gensim.models.phrases.Phraser(trigram)\n",
    "\n",
    "# See trigram example\n",
    "print(trigram_mod[bigram_mod[data_words[0]]])"
   ]
  },
  {
   "cell_type": "code",
   "execution_count": 17,
   "metadata": {},
   "outputs": [],
   "source": [
    "# Define functions for stopwords, bigrams, trigrams and lemmatization\n",
    "def remove_stopwords(texts):\n",
    "    return [[word for word in simple_preprocess(str(doc)) if word not in stop_words] for doc in texts]\n",
    "\n"
   ]
  },
  {
   "cell_type": "code",
   "execution_count": 18,
   "metadata": {},
   "outputs": [],
   "source": [
    "def make_bigrams(texts):\n",
    "    return [bigram_mod[doc] for doc in texts]\n",
    "\n"
   ]
  },
  {
   "cell_type": "code",
   "execution_count": 19,
   "metadata": {},
   "outputs": [],
   "source": [
    "def make_trigrams(texts):\n",
    "    return [trigram_mod[bigram_mod[doc]] for doc in texts]\n",
    "\n"
   ]
  },
  {
   "cell_type": "code",
   "execution_count": 20,
   "metadata": {},
   "outputs": [],
   "source": [
    "def lemmatization(texts, allowed_postags=['NOUN', 'ADJ', 'VERB', 'ADV']):\n",
    "    \"\"\"https://spacy.io/api/annotation\"\"\"\n",
    "    texts_out = []\n",
    "    for sent in texts:\n",
    "        doc = nlp(\" \".join(sent)) \n",
    "        texts_out.append([token.lemma_ for token in doc if token.pos_ in allowed_postags])\n",
    "    return texts_out"
   ]
  },
  {
   "cell_type": "code",
   "execution_count": 21,
   "metadata": {},
   "outputs": [],
   "source": [
    "# Remove Stop Words\n",
    "data_words_nostops = remove_stopwords(data_words)\n",
    "\n"
   ]
  },
  {
   "cell_type": "code",
   "execution_count": 22,
   "metadata": {},
   "outputs": [],
   "source": [
    "# Form Bigrams\n",
    "data_words_bigrams = make_bigrams(data_words_nostops)\n",
    "\n"
   ]
  },
  {
   "cell_type": "code",
   "execution_count": 23,
   "metadata": {},
   "outputs": [],
   "source": [
    "#!python -m spacy download en_core_web_sm\n"
   ]
  },
  {
   "cell_type": "code",
   "execution_count": 24,
   "metadata": {},
   "outputs": [],
   "source": [
    "import spacy\n",
    "nlp = spacy.load('en_core_web_sm')\n",
    "\n"
   ]
  },
  {
   "cell_type": "code",
   "execution_count": 25,
   "metadata": {},
   "outputs": [
    {
     "name": "stdout",
     "output_type": "stream",
     "text": [
      "[['where', 'thing', 'car', 'nntp_posting', 'host', 'line', 'wonder', 'could', 'enlighten', 'car', 'see', 'day', 'door', 'sport', 'car', 'look', 'late', 'early', 'call', 'bricklin', 'door', 'really', 'small', 'addition', 'separate', 'rest', 'body', 'know', 'name', 'engine', 'specs', 'year', 'production', 'car', 'make', 'history', 'info', 'funky', 'look', 'car', 'mail', 'thank', 'bring', 'neighborhood', 'lerxst']]\n"
     ]
    }
   ],
   "source": [
    "# Do lemmatization keeping only noun, adj, vb, adv\n",
    "data_lemmatized = lemmatization(data_words_bigrams, allowed_postags=['NOUN', 'ADJ', 'VERB', 'ADV'])\n",
    "\n",
    "print(data_lemmatized[:1])"
   ]
  },
  {
   "cell_type": "code",
   "execution_count": 26,
   "metadata": {},
   "outputs": [
    {
     "name": "stdout",
     "output_type": "stream",
     "text": [
      "[[(0, 1), (1, 1), (2, 1), (3, 1), (4, 1), (5, 5), (6, 1), (7, 1), (8, 2), (9, 1), (10, 1), (11, 1), (12, 1), (13, 1), (14, 1), (15, 1), (16, 1), (17, 1), (18, 1), (19, 1), (20, 2), (21, 1), (22, 1), (23, 1), (24, 1), (25, 1), (26, 1), (27, 1), (28, 1), (29, 1), (30, 1), (31, 1), (32, 1), (33, 1), (34, 1), (35, 1), (36, 1), (37, 1), (38, 1)]]\n"
     ]
    }
   ],
   "source": [
    "# Create Dictionary\n",
    "id2word = corpora.Dictionary(data_lemmatized)\n",
    "\n",
    "# Create Corpus\n",
    "texts = data_lemmatized\n",
    "\n",
    "# Term Document Frequency\n",
    "corpus = [id2word.doc2bow(text) for text in texts]\n",
    "\n",
    "# View\n",
    "print(corpus[:1])"
   ]
  },
  {
   "cell_type": "code",
   "execution_count": 27,
   "metadata": {},
   "outputs": [
    {
     "data": {
      "text/plain": [
       "'addition'"
      ]
     },
     "execution_count": 27,
     "metadata": {},
     "output_type": "execute_result"
    }
   ],
   "source": [
    "id2word[0]\n"
   ]
  },
  {
   "cell_type": "code",
   "execution_count": 28,
   "metadata": {},
   "outputs": [
    {
     "data": {
      "text/plain": [
       "[[('addition', 1),\n",
       "  ('body', 1),\n",
       "  ('bricklin', 1),\n",
       "  ('bring', 1),\n",
       "  ('call', 1),\n",
       "  ('car', 5),\n",
       "  ('could', 1),\n",
       "  ('day', 1),\n",
       "  ('door', 2),\n",
       "  ('early', 1),\n",
       "  ('engine', 1),\n",
       "  ('enlighten', 1),\n",
       "  ('funky', 1),\n",
       "  ('history', 1),\n",
       "  ('host', 1),\n",
       "  ('info', 1),\n",
       "  ('know', 1),\n",
       "  ('late', 1),\n",
       "  ('lerxst', 1),\n",
       "  ('line', 1),\n",
       "  ('look', 2),\n",
       "  ('mail', 1),\n",
       "  ('make', 1),\n",
       "  ('name', 1),\n",
       "  ('neighborhood', 1),\n",
       "  ('nntp_posting', 1),\n",
       "  ('production', 1),\n",
       "  ('really', 1),\n",
       "  ('rest', 1),\n",
       "  ('see', 1),\n",
       "  ('separate', 1),\n",
       "  ('small', 1),\n",
       "  ('specs', 1),\n",
       "  ('sport', 1),\n",
       "  ('thank', 1),\n",
       "  ('thing', 1),\n",
       "  ('where', 1),\n",
       "  ('wonder', 1),\n",
       "  ('year', 1)]]"
      ]
     },
     "execution_count": 28,
     "metadata": {},
     "output_type": "execute_result"
    }
   ],
   "source": [
    "# Human readable format of corpus (term-frequency)\n",
    "[[(id2word[id], freq) for id, freq in cp] for cp in corpus[:1]]"
   ]
  },
  {
   "cell_type": "code",
   "execution_count": 29,
   "metadata": {},
   "outputs": [],
   "source": [
    "# Build LDA model\n",
    "lda_model = gensim.models.ldamodel.LdaModel(corpus=corpus,\n",
    "                                           id2word=id2word,\n",
    "                                           num_topics=20, \n",
    "                                           random_state=100,\n",
    "                                           update_every=1,\n",
    "                                           chunksize=100,\n",
    "                                           passes=10,\n",
    "                                           alpha='auto',\n",
    "                                           per_word_topics=True)\n"
   ]
  },
  {
   "cell_type": "code",
   "execution_count": 30,
   "metadata": {},
   "outputs": [
    {
     "name": "stdout",
     "output_type": "stream",
     "text": [
      "[(0,\n",
      "  '0.023*\"high\" + 0.022*\"power\" + 0.021*\"will\" + 0.019*\"large\" + '\n",
      "  '0.017*\"report\" + 0.016*\"small\" + 0.016*\"type\" + 0.015*\"area\" + '\n",
      "  '0.014*\"source\" + 0.013*\"low\"'),\n",
      " (1,\n",
      "  '0.065*\"software\" + 0.055*\"system\" + 0.051*\"datum\" + 0.046*\"support\" + '\n",
      "  '0.037*\"hardware\" + 0.030*\"product\" + 0.030*\"package\" + 0.029*\"code\" + '\n",
      "  '0.027*\"keyword\" + 0.025*\"cpu\"'),\n",
      " (2,\n",
      "  '0.042*\"people\" + 0.026*\"evidence\" + 0.025*\"say\" + 0.021*\"believe\" + '\n",
      "  '0.016*\"law\" + 0.015*\"man\" + 0.014*\"state\" + 0.013*\"claim\" + 0.012*\"child\" + '\n",
      "  '0.012*\"reason\"'),\n",
      " (3,\n",
      "  '0.053*\"vote\" + 0.053*\"update\" + 0.048*\"trust\" + 0.041*\"aware\" + '\n",
      "  '0.040*\"electronic\" + 0.036*\"proposal\" + 0.036*\"additional\" + 0.036*\"draft\" '\n",
      "  '+ 0.032*\"engineer\" + 0.025*\"initial\"'),\n",
      " (4,\n",
      "  '0.061*\"turkish\" + 0.057*\"armenian\" + 0.051*\"turk\" + 0.032*\"privacy\" + '\n",
      "  '0.031*\"violence\" + 0.026*\"proceed\" + 0.020*\"today\" + 0.019*\"escape\" + '\n",
      "  '0.018*\"genocide\" + 0.016*\"massacre\"'),\n",
      " (5,\n",
      "  '0.079*\"insist\" + 0.077*\"hole\" + 0.054*\"better\" + 0.042*\"regardless\" + '\n",
      "  '0.040*\"probe\" + 0.023*\"era\" + 0.023*\"starter\" + 0.015*\"precisely\" + '\n",
      "  '0.014*\"batter\" + 0.006*\"seldom\"'),\n",
      " (6,\n",
      "  '0.046*\"input\" + 0.040*\"box\" + 0.038*\"family\" + 0.032*\"switch\" + '\n",
      "  '0.031*\"ground\" + 0.031*\"mount\" + 0.028*\"criminal\" + 0.028*\"master\" + '\n",
      "  '0.026*\"signal\" + 0.023*\"door\"'),\n",
      " (7,\n",
      "  '0.147*\"space\" + 0.049*\"launch\" + 0.044*\"orbit\" + 0.042*\"mission\" + '\n",
      "  '0.039*\"earth\" + 0.034*\"satellite\" + 0.030*\"moon\" + 0.028*\"engineering\" + '\n",
      "  '0.027*\"rocket\" + 0.027*\"flight\"'),\n",
      " (8,\n",
      "  '0.029*\"public\" + 0.027*\"gun\" + 0.026*\"government\" + 0.021*\"use\" + '\n",
      "  '0.017*\"right\" + 0.015*\"state\" + 0.014*\"encryption\" + 0.013*\"soon\" + '\n",
      "  '0.013*\"carry\" + 0.013*\"protect\"'),\n",
      " (9,\n",
      "  '0.549*\"ax\" + 0.023*\"color\" + 0.014*\"picture\" + 0.011*\"ignore\" + '\n",
      "  '0.011*\"originator\" + 0.010*\"weight\" + 0.010*\"average\" + 0.009*\"mine\" + '\n",
      "  '0.008*\"stupid\" + 0.008*\"baseball\"'),\n",
      " (10,\n",
      "  '0.059*\"program\" + 0.055*\"file\" + 0.046*\"window\" + 0.028*\"set\" + '\n",
      "  '0.026*\"test\" + 0.024*\"image\" + 0.023*\"use\" + 0.022*\"version\" + '\n",
      "  '0.021*\"application\" + 0.018*\"screen\"'),\n",
      " (11,\n",
      "  '0.072*\"internal\" + 0.066*\"period\" + 0.053*\"mouse\" + 0.044*\"procedure\" + '\n",
      "  '0.040*\"upgrade\" + 0.036*\"modem\" + 0.029*\"club\" + 0.028*\"soul\" + '\n",
      "  '0.027*\"floppy\" + 0.022*\"electrical\"'),\n",
      " (12,\n",
      "  '0.068*\"technology\" + 0.066*\"science\" + 0.045*\"research\" + 0.041*\"study\" + '\n",
      "  '0.039*\"goal\" + 0.037*\"compare\" + 0.031*\"field\" + 0.028*\"scientific\" + '\n",
      "  '0.021*\"review\" + 0.018*\"surface\"'),\n",
      " (13,\n",
      "  '0.031*\"would\" + 0.031*\"write\" + 0.019*\"be\" + 0.019*\"know\" + 0.019*\"go\" + '\n",
      "  '0.019*\"think\" + 0.017*\"article\" + 0.015*\"time\" + 0.015*\"get\" + 0.015*\"say\"'),\n",
      " (14,\n",
      "  '0.147*\"drive\" + 0.067*\"driver\" + 0.046*\"fast\" + 0.043*\"rate\" + '\n",
      "  '0.041*\"model\" + 0.040*\"speed\" + 0.037*\"disk\" + 0.035*\"device\" + '\n",
      "  '0.029*\"video\" + 0.025*\"bus\"'),\n",
      " (15,\n",
      "  '0.038*\"may\" + 0.017*\"question\" + 0.017*\"also\" + 0.015*\"many\" + 0.014*\"read\" '\n",
      "  '+ 0.013*\"group\" + 0.013*\"make\" + 0.012*\"case\" + 0.012*\"point\" + '\n",
      "  '0.012*\"part\"'),\n",
      " (16,\n",
      "  '0.302*\"key\" + 0.155*\"chip\" + 0.060*\"bit\" + 0.052*\"secure\" + 0.042*\"secret\" '\n",
      "  '+ 0.018*\"technology\" + 0.014*\"register\" + 0.012*\"standard\" + 0.012*\"attack\" '\n",
      "  '+ 0.006*\"phone\"'),\n",
      " (17,\n",
      "  '0.062*\"car\" + 0.048*\"buy\" + 0.040*\"price\" + 0.037*\"sell\" + 0.036*\"pay\" + '\n",
      "  '0.036*\"sale\" + 0.034*\"cost\" + 0.027*\"patient\" + 0.023*\"com\" + '\n",
      "  '0.021*\"university\"'),\n",
      " (18,\n",
      "  '0.069*\"bike\" + 0.051*\"engine\" + 0.049*\"ride\" + 0.043*\"direct\" + '\n",
      "  '0.040*\"meet\" + 0.039*\"road\" + 0.030*\"pack\" + 0.029*\"mile\" + 0.028*\"cable\" + '\n",
      "  '0.025*\"terrorism\"'),\n",
      " (19,\n",
      "  '0.105*\"line\" + 0.056*\"host\" + 0.051*\"nntp_poste\" + 0.036*\"organization\" + '\n",
      "  '0.029*\"need\" + 0.028*\"thank\" + 0.027*\"system\" + 0.026*\"use\" + '\n",
      "  '0.026*\"problem\" + 0.022*\"mail\"')]\n"
     ]
    }
   ],
   "source": [
    "\n",
    "pprint(lda_model.print_topics())\n",
    "doc_lda = lda_model[corpus]"
   ]
  },
  {
   "cell_type": "code",
   "execution_count": 31,
   "metadata": {},
   "outputs": [
    {
     "name": "stdout",
     "output_type": "stream",
     "text": [
      "\n",
      "Perplexity:  -12.642452280445442\n",
      "\n",
      "Coherence Score:  0.4995441011408275\n"
     ]
    }
   ],
   "source": [
    "# Compute Perplexity\n",
    "print('\\nPerplexity: ', lda_model.log_perplexity(corpus))  # a measure of how good the model is. lower the better.\n",
    "\n",
    "# Compute Coherence Score\n",
    "coherence_model_lda = CoherenceModel(model=lda_model, texts=data_lemmatized, dictionary=id2word, coherence='c_v')\n",
    "coherence_lda = coherence_model_lda.get_coherence()\n",
    "print('\\nCoherence Score: ', coherence_lda)\n"
   ]
  },
  {
   "cell_type": "code",
   "execution_count": 32,
   "metadata": {},
   "outputs": [
    {
     "name": "stderr",
     "output_type": "stream",
     "text": [
      "C:\\Users\\User\\Anaconda3\\lib\\site-packages\\pyLDAvis\\_prepare.py:257: FutureWarning: Sorting because non-concatenation axis is not aligned. A future version\n",
      "of pandas will change to not sort by default.\n",
      "\n",
      "To accept the future behavior, pass 'sort=False'.\n",
      "\n",
      "To retain the current behavior and silence the warning, pass 'sort=True'.\n",
      "\n",
      "  return pd.concat([default_term_info] + list(topic_dfs))\n"
     ]
    },
    {
     "data": {
      "text/html": [
       "\n",
       "<link rel=\"stylesheet\" type=\"text/css\" href=\"https://cdn.rawgit.com/bmabey/pyLDAvis/files/ldavis.v1.0.0.css\">\n",
       "\n",
       "\n",
       "<div id=\"ldavis_el821215363630806161119138\"></div>\n",
       "<script type=\"text/javascript\">\n",
       "\n",
       "var ldavis_el821215363630806161119138_data = {\"mdsDat\": {\"x\": [0.33104111811692233, 0.29432677927037004, 0.22992414976306827, 0.2236539673136321, 0.16139115779518426, -0.001261955335501914, 0.13019687720267537, 0.11113568977648153, 0.025644419725115462, -0.018522043052927258, -0.05698819172974835, -0.09546256777398351, -0.11865553383150751, -0.15124294251159154, -0.15294007894115969, -0.16539822308001184, -0.1574524192671772, -0.18711690377369747, -0.1895719419675147, -0.21270135769862814], \"y\": [-0.11229300818379853, -0.09669910796148201, -0.2968713504543511, 0.21915159945445634, 0.16503839961227088, 0.06636050406220426, -0.035121880015367195, 0.10457576626424954, 0.11234245140035573, 0.13348352642239678, 0.06766423956707847, -0.026289645199921635, -0.015068212732936884, -0.034224151223677654, -0.02199713459169508, -0.07714830507835425, -0.025417228323359985, -0.041670747906327806, -0.04003384957028586, -0.045781865541454164], \"topics\": [1, 2, 3, 4, 5, 6, 7, 8, 9, 10, 11, 12, 13, 14, 15, 16, 17, 18, 19, 20], \"cluster\": [1, 1, 1, 1, 1, 1, 1, 1, 1, 1, 1, 1, 1, 1, 1, 1, 1, 1, 1, 1], \"Freq\": [33.173065185546875, 15.564447402954102, 9.374027252197266, 8.46470832824707, 6.709595680236816, 5.743227481842041, 4.770956516265869, 4.084515571594238, 2.7108421325683594, 1.9076604843139648, 1.5772167444229126, 1.3204994201660156, 1.121603012084961, 0.8245717883110046, 0.6163219213485718, 0.5187233686447144, 0.5052639245986938, 0.44336989521980286, 0.4001232385635376, 0.16926442086696625]}, \"tinfo\": {\"Category\": [\"Default\", \"Default\", \"Default\", \"Default\", \"Default\", \"Default\", \"Default\", \"Default\", \"Default\", \"Default\", \"Default\", \"Default\", \"Default\", \"Default\", \"Default\", \"Default\", \"Default\", \"Default\", \"Default\", \"Default\", \"Default\", \"Default\", \"Default\", \"Default\", \"Default\", \"Default\", \"Default\", \"Default\", \"Default\", \"Default\", \"Topic1\", \"Topic1\", \"Topic1\", \"Topic1\", \"Topic1\", \"Topic1\", \"Topic1\", \"Topic1\", \"Topic1\", \"Topic1\", \"Topic1\", \"Topic1\", \"Topic1\", \"Topic1\", \"Topic1\", \"Topic1\", \"Topic1\", \"Topic1\", \"Topic1\", \"Topic1\", \"Topic1\", \"Topic1\", \"Topic1\", \"Topic1\", \"Topic1\", \"Topic1\", \"Topic1\", \"Topic1\", \"Topic1\", \"Topic1\", \"Topic1\", \"Topic1\", \"Topic1\", \"Topic1\", \"Topic1\", \"Topic1\", \"Topic1\", \"Topic1\", \"Topic1\", \"Topic1\", \"Topic1\", \"Topic1\", \"Topic1\", \"Topic1\", \"Topic1\", \"Topic1\", \"Topic1\", \"Topic1\", \"Topic1\", \"Topic1\", \"Topic1\", \"Topic1\", \"Topic1\", \"Topic1\", \"Topic1\", \"Topic1\", \"Topic1\", \"Topic1\", \"Topic1\", \"Topic1\", \"Topic1\", \"Topic1\", \"Topic1\", \"Topic2\", \"Topic2\", \"Topic2\", \"Topic2\", \"Topic2\", \"Topic2\", \"Topic2\", \"Topic2\", \"Topic2\", \"Topic2\", \"Topic2\", \"Topic2\", \"Topic2\", \"Topic2\", \"Topic2\", \"Topic2\", \"Topic2\", \"Topic2\", \"Topic2\", \"Topic2\", \"Topic2\", \"Topic2\", \"Topic2\", \"Topic2\", \"Topic2\", \"Topic2\", \"Topic2\", \"Topic2\", \"Topic2\", \"Topic2\", \"Topic2\", \"Topic2\", \"Topic2\", \"Topic2\", \"Topic2\", \"Topic2\", \"Topic2\", \"Topic2\", \"Topic2\", \"Topic2\", \"Topic2\", \"Topic2\", \"Topic2\", \"Topic2\", \"Topic2\", \"Topic2\", \"Topic2\", \"Topic2\", \"Topic2\", \"Topic2\", \"Topic2\", \"Topic2\", \"Topic2\", \"Topic2\", \"Topic2\", \"Topic2\", \"Topic2\", \"Topic2\", \"Topic2\", \"Topic2\", \"Topic2\", \"Topic2\", \"Topic2\", \"Topic2\", \"Topic3\", \"Topic3\", \"Topic3\", \"Topic3\", \"Topic3\", \"Topic3\", \"Topic3\", \"Topic3\", \"Topic3\", \"Topic3\", \"Topic3\", \"Topic3\", \"Topic3\", \"Topic3\", \"Topic3\", \"Topic3\", \"Topic3\", \"Topic3\", \"Topic3\", \"Topic3\", \"Topic3\", \"Topic3\", \"Topic3\", \"Topic3\", \"Topic3\", \"Topic3\", \"Topic3\", \"Topic3\", \"Topic3\", \"Topic3\", \"Topic3\", \"Topic3\", \"Topic3\", \"Topic3\", \"Topic3\", \"Topic3\", \"Topic3\", \"Topic3\", \"Topic3\", \"Topic3\", \"Topic3\", \"Topic3\", \"Topic3\", \"Topic3\", \"Topic3\", \"Topic3\", \"Topic3\", \"Topic3\", \"Topic3\", \"Topic3\", \"Topic3\", \"Topic4\", \"Topic4\", \"Topic4\", \"Topic4\", \"Topic4\", \"Topic4\", \"Topic4\", \"Topic4\", \"Topic4\", \"Topic4\", \"Topic4\", \"Topic4\", \"Topic4\", \"Topic4\", \"Topic4\", \"Topic4\", \"Topic4\", \"Topic4\", \"Topic4\", \"Topic4\", \"Topic4\", \"Topic4\", \"Topic4\", \"Topic4\", \"Topic4\", \"Topic4\", \"Topic4\", \"Topic4\", \"Topic4\", \"Topic4\", \"Topic4\", \"Topic4\", \"Topic4\", \"Topic4\", \"Topic4\", \"Topic4\", \"Topic4\", \"Topic4\", \"Topic4\", \"Topic4\", \"Topic4\", \"Topic4\", \"Topic4\", \"Topic4\", \"Topic4\", \"Topic4\", \"Topic4\", \"Topic4\", \"Topic4\", \"Topic4\", \"Topic4\", \"Topic4\", \"Topic4\", \"Topic4\", \"Topic4\", \"Topic4\", \"Topic5\", \"Topic5\", \"Topic5\", \"Topic5\", \"Topic5\", \"Topic5\", \"Topic5\", \"Topic5\", \"Topic5\", \"Topic5\", \"Topic5\", \"Topic5\", \"Topic5\", \"Topic5\", \"Topic5\", \"Topic5\", \"Topic5\", \"Topic5\", \"Topic5\", \"Topic5\", \"Topic5\", \"Topic5\", \"Topic5\", \"Topic5\", \"Topic5\", \"Topic5\", \"Topic5\", \"Topic5\", \"Topic5\", \"Topic5\", \"Topic5\", \"Topic5\", \"Topic5\", \"Topic5\", \"Topic5\", \"Topic5\", \"Topic5\", \"Topic5\", \"Topic5\", \"Topic5\", \"Topic5\", \"Topic5\", \"Topic5\", \"Topic5\", \"Topic5\", \"Topic5\", \"Topic5\", \"Topic5\", \"Topic5\", \"Topic5\", \"Topic5\", \"Topic5\", \"Topic5\", \"Topic6\", \"Topic6\", \"Topic6\", \"Topic6\", \"Topic6\", \"Topic6\", \"Topic6\", \"Topic6\", \"Topic6\", \"Topic6\", \"Topic6\", \"Topic6\", \"Topic6\", \"Topic6\", \"Topic6\", \"Topic6\", \"Topic6\", \"Topic6\", \"Topic6\", \"Topic6\", \"Topic6\", \"Topic6\", \"Topic6\", \"Topic6\", \"Topic6\", \"Topic6\", \"Topic6\", \"Topic6\", \"Topic6\", \"Topic6\", \"Topic7\", \"Topic7\", \"Topic7\", \"Topic7\", \"Topic7\", \"Topic7\", \"Topic7\", \"Topic7\", \"Topic7\", \"Topic7\", \"Topic7\", \"Topic7\", \"Topic7\", \"Topic7\", \"Topic7\", \"Topic7\", \"Topic7\", \"Topic7\", \"Topic7\", \"Topic7\", \"Topic7\", \"Topic7\", \"Topic7\", \"Topic7\", \"Topic7\", \"Topic7\", \"Topic7\", \"Topic7\", \"Topic7\", \"Topic7\", \"Topic7\", \"Topic7\", \"Topic7\", \"Topic7\", \"Topic7\", \"Topic7\", \"Topic7\", \"Topic7\", \"Topic7\", \"Topic7\", \"Topic7\", \"Topic7\", \"Topic7\", \"Topic7\", \"Topic8\", \"Topic8\", \"Topic8\", \"Topic8\", \"Topic8\", \"Topic8\", \"Topic8\", \"Topic8\", \"Topic8\", \"Topic8\", \"Topic8\", \"Topic8\", \"Topic8\", \"Topic8\", \"Topic8\", \"Topic8\", \"Topic8\", \"Topic8\", \"Topic8\", \"Topic8\", \"Topic8\", \"Topic8\", \"Topic8\", \"Topic8\", \"Topic8\", \"Topic8\", \"Topic8\", \"Topic8\", \"Topic8\", \"Topic8\", \"Topic8\", \"Topic8\", \"Topic8\", \"Topic8\", \"Topic8\", \"Topic8\", \"Topic8\", \"Topic8\", \"Topic8\", \"Topic8\", \"Topic8\", \"Topic8\", \"Topic9\", \"Topic9\", \"Topic9\", \"Topic9\", \"Topic9\", \"Topic9\", \"Topic9\", \"Topic9\", \"Topic9\", \"Topic9\", \"Topic9\", \"Topic9\", \"Topic9\", \"Topic9\", \"Topic9\", \"Topic9\", \"Topic9\", \"Topic9\", \"Topic9\", \"Topic9\", \"Topic9\", \"Topic9\", \"Topic9\", \"Topic9\", \"Topic9\", \"Topic9\", \"Topic9\", \"Topic9\", \"Topic9\", \"Topic9\", \"Topic9\", \"Topic9\", \"Topic9\", \"Topic9\", \"Topic9\", \"Topic9\", \"Topic9\", \"Topic9\", \"Topic9\", \"Topic10\", \"Topic10\", \"Topic10\", \"Topic10\", \"Topic10\", \"Topic10\", \"Topic10\", \"Topic10\", \"Topic10\", \"Topic10\", \"Topic10\", \"Topic10\", \"Topic10\", \"Topic10\", \"Topic10\", \"Topic10\", \"Topic10\", \"Topic10\", \"Topic10\", \"Topic10\", \"Topic10\", \"Topic10\", \"Topic10\", \"Topic10\", \"Topic10\", \"Topic10\", \"Topic10\", \"Topic10\", \"Topic10\", \"Topic10\", \"Topic10\", \"Topic10\", \"Topic10\", \"Topic10\", \"Topic10\", \"Topic10\", \"Topic10\", \"Topic10\", \"Topic10\", \"Topic10\", \"Topic11\", \"Topic11\", \"Topic11\", \"Topic11\", \"Topic11\", \"Topic11\", \"Topic11\", \"Topic11\", \"Topic11\", \"Topic11\", \"Topic11\", \"Topic11\", \"Topic11\", \"Topic11\", \"Topic11\", \"Topic11\", \"Topic11\", \"Topic11\", \"Topic11\", \"Topic11\", \"Topic11\", \"Topic11\", \"Topic11\", \"Topic11\", \"Topic11\", \"Topic11\", \"Topic11\", \"Topic11\", \"Topic11\", \"Topic11\", \"Topic11\", \"Topic11\", \"Topic11\", \"Topic11\", \"Topic11\", \"Topic11\", \"Topic11\", \"Topic11\", \"Topic12\", \"Topic12\", \"Topic12\", \"Topic12\", \"Topic12\", \"Topic12\", \"Topic12\", \"Topic12\", \"Topic12\", \"Topic12\", \"Topic12\", \"Topic12\", \"Topic12\", \"Topic12\", \"Topic12\", \"Topic12\", \"Topic12\", \"Topic12\", \"Topic12\", \"Topic12\", \"Topic12\", \"Topic12\", \"Topic12\", \"Topic12\", \"Topic12\", \"Topic12\", \"Topic12\", \"Topic12\", \"Topic12\", \"Topic12\", \"Topic12\", \"Topic12\", \"Topic12\", \"Topic12\", \"Topic13\", \"Topic13\", \"Topic13\", \"Topic13\", \"Topic13\", \"Topic13\", \"Topic13\", \"Topic13\", \"Topic13\", \"Topic13\", \"Topic13\", \"Topic13\", \"Topic13\", \"Topic13\", \"Topic13\", \"Topic13\", \"Topic13\", \"Topic13\", \"Topic13\", \"Topic13\", \"Topic13\", \"Topic13\", \"Topic13\", \"Topic13\", \"Topic13\", \"Topic13\", \"Topic13\", \"Topic13\", \"Topic13\", \"Topic13\", \"Topic13\", \"Topic13\", \"Topic13\", \"Topic13\", \"Topic13\", \"Topic14\", \"Topic14\", \"Topic14\", \"Topic14\", \"Topic14\", \"Topic14\", \"Topic14\", \"Topic14\", \"Topic14\", \"Topic14\", \"Topic14\", \"Topic14\", \"Topic14\", \"Topic14\", \"Topic14\", \"Topic14\", \"Topic14\", \"Topic14\", \"Topic14\", \"Topic14\", \"Topic14\", \"Topic14\", \"Topic14\", \"Topic14\", \"Topic14\", \"Topic14\", \"Topic14\", \"Topic14\", \"Topic14\", \"Topic14\", \"Topic14\", \"Topic14\", \"Topic15\", \"Topic15\", \"Topic15\", \"Topic15\", \"Topic15\", \"Topic15\", \"Topic15\", \"Topic15\", \"Topic15\", \"Topic15\", \"Topic15\", \"Topic15\", \"Topic15\", \"Topic15\", \"Topic15\", \"Topic15\", \"Topic15\", \"Topic15\", \"Topic15\", \"Topic15\", \"Topic15\", \"Topic15\", \"Topic15\", \"Topic15\", \"Topic15\", \"Topic15\", \"Topic15\", \"Topic15\", \"Topic15\", \"Topic15\", \"Topic15\", \"Topic15\", \"Topic15\", \"Topic15\", \"Topic16\", \"Topic16\", \"Topic16\", \"Topic16\", \"Topic16\", \"Topic16\", \"Topic16\", \"Topic16\", \"Topic16\", \"Topic16\", \"Topic16\", \"Topic16\", \"Topic16\", \"Topic16\", \"Topic16\", \"Topic16\", \"Topic16\", \"Topic16\", \"Topic16\", \"Topic16\", \"Topic16\", \"Topic16\", \"Topic16\", \"Topic16\", \"Topic16\", \"Topic16\", \"Topic16\", \"Topic16\", \"Topic16\", \"Topic16\", \"Topic16\", \"Topic16\", \"Topic16\", \"Topic16\", \"Topic16\", \"Topic16\", \"Topic16\", \"Topic16\", \"Topic16\", \"Topic16\", \"Topic16\", \"Topic16\", \"Topic16\", \"Topic16\", \"Topic17\", \"Topic17\", \"Topic17\", \"Topic17\", \"Topic17\", \"Topic17\", \"Topic17\", \"Topic17\", \"Topic17\", \"Topic17\", \"Topic17\", \"Topic17\", \"Topic17\", \"Topic17\", \"Topic17\", \"Topic17\", \"Topic17\", \"Topic17\", \"Topic17\", \"Topic17\", \"Topic17\", \"Topic17\", \"Topic17\", \"Topic17\", \"Topic17\", \"Topic17\", \"Topic17\", \"Topic17\", \"Topic17\", \"Topic17\", \"Topic17\", \"Topic17\", \"Topic18\", \"Topic18\", \"Topic18\", \"Topic18\", \"Topic18\", \"Topic18\", \"Topic18\", \"Topic18\", \"Topic18\", \"Topic18\", \"Topic18\", \"Topic18\", \"Topic18\", \"Topic18\", \"Topic18\", \"Topic18\", \"Topic18\", \"Topic18\", \"Topic18\", \"Topic18\", \"Topic18\", \"Topic18\", \"Topic18\", \"Topic18\", \"Topic18\", \"Topic18\", \"Topic18\", \"Topic18\", \"Topic18\", \"Topic18\", \"Topic18\", \"Topic18\", \"Topic18\", \"Topic19\", \"Topic19\", \"Topic19\", \"Topic19\", \"Topic19\", \"Topic19\", \"Topic19\", \"Topic19\", \"Topic19\", \"Topic19\", \"Topic19\", \"Topic19\", \"Topic19\", \"Topic19\", \"Topic19\", \"Topic19\", \"Topic19\", \"Topic19\", \"Topic19\", \"Topic19\", \"Topic19\", \"Topic19\", \"Topic19\", \"Topic19\", \"Topic19\", \"Topic19\", \"Topic19\", \"Topic19\", \"Topic19\", \"Topic19\", \"Topic19\", \"Topic19\", \"Topic19\", \"Topic20\", \"Topic20\", \"Topic20\", \"Topic20\", \"Topic20\", \"Topic20\", \"Topic20\", \"Topic20\", \"Topic20\", \"Topic20\", \"Topic20\", \"Topic20\", \"Topic20\", \"Topic20\", \"Topic20\", \"Topic20\", \"Topic20\", \"Topic20\", \"Topic20\", \"Topic20\", \"Topic20\", \"Topic20\", \"Topic20\", \"Topic20\", \"Topic20\", \"Topic20\", \"Topic20\", \"Topic20\", \"Topic20\", \"Topic20\", \"Topic20\", \"Topic20\", \"Topic20\", \"Topic20\", \"Topic20\", \"Topic20\", \"Topic20\", \"Topic20\", \"Topic20\", \"Topic20\"], \"Freq\": [37296.0, 14552.0, 5602.0, 7424.0, 5118.0, 7315.0, 13525.0, 2746.0, 4380.0, 6010.0, 8623.0, 1803.0, 2872.0, 13157.0, 5923.0, 2638.0, 7645.0, 7530.0, 4307.0, 1976.0, 2207.0, 7544.0, 1796.0, 3806.0, 2814.0, 2855.0, 6888.0, 6890.0, 3250.0, 1725.0, 7528.830078125, 7643.6904296875, 4195.5537109375, 3018.057861328125, 2657.05859375, 2465.810302734375, 2274.48876953125, 2226.6572265625, 2099.7001953125, 2078.291259765625, 2053.001953125, 1973.023193359375, 1847.2705078125, 1715.5867919921875, 1586.0885009765625, 1559.3507080078125, 1441.7691650390625, 1374.5714111328125, 1318.9573974609375, 1277.42236328125, 1241.59228515625, 1072.729736328125, 1013.156494140625, 975.8528442382812, 921.1425170898438, 899.013427734375, 878.5797119140625, 859.4946899414062, 836.7652587890625, 837.7733154296875, 5075.89990234375, 1667.846435546875, 2822.49267578125, 7410.67919921875, 1510.2333984375, 6669.94140625, 1782.60205078125, 2241.568603515625, 12279.2939453125, 1943.1357421875, 4442.125, 5934.73095703125, 12004.73046875, 7638.29736328125, 5566.72900390625, 4773.9775390625, 3450.126220703125, 4322.16015625, 2382.297119140625, 5887.97119140625, 3015.331298828125, 4081.746826171875, 5090.45068359375, 4041.25341796875, 5720.16357421875, 3687.38232421875, 5854.404296875, 3271.710205078125, 2675.099853515625, 3130.539306640625, 2946.9404296875, 4079.35107421875, 2760.60888671875, 3191.902099609375, 2384.4296875, 1744.6942138671875, 1490.37255859375, 1255.81884765625, 1081.5560302734375, 1061.0775146484375, 1046.468017578125, 1044.1898193359375, 908.7510986328125, 904.0218505859375, 840.3156127929688, 825.6371459960938, 806.313232421875, 728.3804931640625, 726.4816284179688, 721.7208251953125, 713.3387451171875, 632.1546020507812, 608.6046752929688, 579.9776611328125, 569.1929931640625, 525.2274169921875, 517.3131713867188, 516.0526733398438, 511.83245849609375, 499.9210510253906, 493.3112487792969, 482.4822082519531, 467.4736328125, 2114.445068359375, 1886.456787109375, 1010.1717529296875, 2571.672119140625, 1917.134521484375, 6964.2900390625, 1644.2032470703125, 1122.9969482421875, 962.259033203125, 1039.8782958984375, 1215.47607421875, 1081.5045166015625, 2080.2939453125, 2123.215576171875, 1413.109375, 929.6187744140625, 2289.10302734375, 1913.1680908203125, 1182.95703125, 1411.13720703125, 2797.56494140625, 3149.240478515625, 2272.88916015625, 1768.7109375, 1930.526123046875, 1679.6060791015625, 1341.7261962890625, 1901.0780029296875, 1288.7950439453125, 1467.9757080078125, 2307.038330078125, 1654.30859375, 1414.9749755859375, 1280.800048828125, 2854.468017578125, 1719.321044921875, 1364.511474609375, 1313.3995361328125, 1253.404052734375, 1055.397216796875, 924.5252075195312, 921.0543823242188, 818.5009155273438, 811.8602294921875, 744.1353759765625, 721.3505859375, 686.9208984375, 653.7383422851562, 646.2146606445312, 643.816650390625, 631.3939819335938, 616.6560668945312, 598.0849609375, 549.0220947265625, 547.37158203125, 543.923095703125, 541.6614379882812, 540.458984375, 508.89642333984375, 507.2348937988281, 467.8926696777344, 450.8395080566406, 435.2580871582031, 423.3293762207031, 651.4210815429688, 716.2310180664062, 1627.934326171875, 1122.3670654296875, 4627.08837890625, 2349.256591796875, 1481.029541015625, 711.4789428710938, 1537.5797119140625, 1198.8480224609375, 653.7266235351562, 1071.168212890625, 1090.531005859375, 2767.524658203125, 1099.9849853515625, 1344.529296875, 759.8240966796875, 688.5277099609375, 778.6764526367188, 834.6543579101562, 688.5468139648438, 5601.03271484375, 5117.67724609375, 2813.000732421875, 2248.928466796875, 1621.8743896484375, 1573.418701171875, 1093.338134765625, 989.12060546875, 891.477294921875, 756.7093505859375, 748.2682495117188, 732.5833129882812, 688.7406005859375, 668.9152221679688, 623.2772827148438, 610.1075439453125, 367.22918701171875, 322.88006591796875, 293.1463623046875, 285.9212646484375, 277.10833740234375, 238.2556915283203, 236.71865844726562, 233.15701293945312, 210.15513610839844, 183.43658447265625, 167.3518524169922, 165.0499267578125, 161.181640625, 156.3148651123047, 1141.1661376953125, 861.3870849609375, 2160.59130859375, 1523.93017578125, 858.4971923828125, 10467.51953125, 1622.3369140625, 2122.92138671875, 295.9002380371094, 2607.431396484375, 2853.0302734375, 994.2899169921875, 851.2240600585938, 3580.52783203125, 2654.3916015625, 1091.6451416015625, 1312.0341796875, 2639.7578125, 1443.1510009765625, 1766.08544921875, 1130.8563232421875, 1466.734130859375, 1058.0902099609375, 1008.3705444335938, 954.5459594726562, 999.4096069335938, 1506.513427734375, 1342.3944091796875, 1745.0626220703125, 1265.3975830078125, 907.7853393554688, 723.0997314453125, 710.8640747070312, 616.1206665039062, 595.301025390625, 591.86328125, 570.144287109375, 562.1571655273438, 526.57275390625, 517.3240966796875, 481.2035217285156, 819.14404296875, 423.2733154296875, 409.43621826171875, 387.2309265136719, 384.56243896484375, 374.59503173828125, 353.04571533203125, 350.1731872558594, 340.89105224609375, 339.6878662109375, 321.5004577636719, 306.5652160644531, 303.953857421875, 303.0016784667969, 298.7991943359375, 461.0550537109375, 538.9331665039062, 1180.3935546875, 986.1841430664062, 791.59423828125, 878.8322143554688, 1699.26611328125, 800.7982177734375, 1847.885498046875, 1246.9046630859375, 684.1497802734375, 1015.3777465820312, 581.4774780273438, 1006.88037109375, 1125.7310791015625, 759.5169677734375, 747.33056640625, 943.6932373046875, 735.8941650390625, 650.66015625, 783.6497802734375, 724.100341796875, 601.9740600585938, 37295.3671875, 1577.1956787109375, 949.11474609375, 763.2913208007812, 762.125244140625, 675.20166015625, 672.3491821289062, 628.2593383789062, 573.5018310546875, 570.6458129882812, 518.69482421875, 509.4631652832031, 492.544921875, 486.43115234375, 464.5964050292969, 457.36273193359375, 456.5965576171875, 427.06103515625, 380.6604919433594, 378.5152282714844, 366.11529541015625, 365.24285888671875, 362.5472106933594, 353.404541015625, 350.048828125, 331.2156982421875, 309.150634765625, 302.81866455078125, 298.7146911621094, 287.98272705078125, 1541.26318359375, 813.0657958984375, 747.8699340820312, 687.75146484375, 670.4683227539062, 618.0783081054688, 564.5001831054688, 554.302490234375, 527.2739868164062, 520.2149658203125, 518.4320068359375, 493.08050537109375, 482.4670715332031, 476.2650146484375, 452.8923645019531, 443.2688903808594, 429.9212341308594, 425.9576721191406, 413.5186767578125, 412.820556640625, 394.2759094238281, 362.9959716796875, 362.3924255371094, 357.83453369140625, 347.8188171386719, 337.7141418457031, 336.3214416503906, 330.9195556640625, 318.4032287597656, 310.83099365234375, 1623.623291015625, 712.4125366210938, 573.7486572265625, 716.1437377929688, 1475.4755859375, 605.0335083007812, 459.3175048828125, 624.066162109375, 670.8036499023438, 980.6416015625, 1185.26611328125, 824.4506225585938, 472.5303955078125, 494.50360107421875, 2870.880615234375, 2636.8828125, 2206.58447265625, 1271.28369140625, 1149.9874267578125, 992.3634033203125, 866.4474487304688, 864.2050170898438, 829.485107421875, 828.271484375, 790.3877563476562, 769.7843017578125, 668.3042602539062, 615.3764038085938, 569.90966796875, 466.1499938964844, 430.7424011230469, 391.98187255859375, 390.3394775390625, 387.6442565917969, 362.49688720703125, 327.6033020019531, 316.5906677246094, 311.07464599609375, 309.5309143066406, 295.9014892578125, 290.0410461425781, 269.0484313964844, 221.09906005859375, 220.12432861328125, 1075.6861572265625, 307.6061096191406, 1354.482421875, 733.3864135742188, 568.5784301757812, 1123.1781005859375, 625.1170043945312, 388.00592041015625, 478.4700622558594, 504.67022705078125, 452.7239074707031, 388.6003112792969, 1975.7532958984375, 1542.0728759765625, 1270.4678955078125, 1185.7122802734375, 1146.4432373046875, 1145.7847900390625, 881.0968017578125, 750.3348999023438, 670.119384765625, 647.6016235351562, 569.1232299804688, 478.5304870605469, 471.00823974609375, 462.4115295410156, 443.5979309082031, 351.18243408203125, 345.3945617675781, 342.9179992675781, 302.1596984863281, 297.1697692871094, 295.1780700683594, 293.5105285644531, 271.5681457519531, 260.4855651855469, 244.7498779296875, 236.3129119873047, 219.48023986816406, 218.5082244873047, 217.99932861328125, 203.078857421875, 1088.6988525390625, 367.65155029296875, 419.03765869140625, 456.95166015625, 513.6597290039062, 291.9346923828125, 523.9580078125, 302.3813171386719, 309.84051513671875, 1470.9384765625, 825.9446411132812, 678.9307250976562, 671.5198974609375, 647.0235595703125, 609.8214721679688, 563.0465087890625, 483.611328125, 475.1512756347656, 445.6916809082031, 387.60992431640625, 375.0680847167969, 346.93133544921875, 317.8578796386719, 315.187255859375, 296.00653076171875, 273.29083251953125, 260.2315979003906, 212.85162353515625, 207.57733154296875, 203.60845947265625, 197.69859313964844, 164.60824584960938, 155.01515197753906, 150.98765563964844, 119.67942810058594, 95.15396118164062, 93.44634246826172, 76.28482818603516, 1141.4119873046875, 153.90090942382812, 482.6564636230469, 551.6747436523438, 1046.917724609375, 1230.8084716796875, 254.3844451904297, 529.7324829101562, 388.7452087402344, 418.9263610839844, 217.5197296142578, 2745.527587890625, 1243.923828125, 853.2578735351562, 765.842529296875, 744.3355712890625, 690.4027709960938, 648.165771484375, 547.5401000976562, 460.03515625, 436.67523193359375, 387.3730163574219, 375.6401062011719, 353.5119934082031, 338.00616455078125, 276.8215026855469, 249.68490600585938, 219.71194458007812, 203.88427734375, 154.05792236328125, 134.91322326660156, 133.61691284179688, 128.8692626953125, 105.8165283203125, 91.80840301513672, 86.92300415039062, 64.32524108886719, 55.77566909790039, 799.8467407226562, 41.88695526123047, 41.54704666137695, 240.58065795898438, 228.84051513671875, 158.4822235107422, 299.5106506347656, 152.13511657714844, 159.0196533203125, 175.13621520996094, 164.39505004882812, 1028.9678955078125, 696.6028442382812, 614.02587890625, 491.7774658203125, 432.0640563964844, 334.6951599121094, 287.0207214355469, 281.80926513671875, 266.9073791503906, 243.16180419921875, 236.1699676513672, 208.88034057617188, 193.66847229003906, 167.45291137695312, 161.5781707763672, 158.62135314941406, 158.220703125, 158.0034942626953, 149.37319946289062, 131.23973083496094, 121.06612396240234, 120.51287841796875, 119.42407989501953, 118.96593475341797, 118.5630111694336, 117.39865112304688, 115.2841796875, 100.36055755615234, 95.33389282226562, 94.40387725830078, 1067.801025390625, 634.2672119140625, 585.4849243164062, 194.64739990234375, 614.4255981445312, 526.7837524414062, 504.7536926269531, 423.01055908203125, 407.2850646972656, 371.8467102050781, 369.5032043457031, 343.7834167480469, 300.994140625, 258.51251220703125, 255.11013793945312, 250.96966552734375, 247.3352508544922, 205.12667846679688, 204.68130493164062, 190.8206024169922, 181.8842315673828, 172.157470703125, 158.7586669921875, 152.5541229248047, 144.27255249023438, 136.4300537109375, 131.99708557128906, 131.31053161621094, 123.480712890625, 123.40834045410156, 117.64418029785156, 104.09902954101562, 100.53678894042969, 98.52725219726562, 411.82568359375, 137.0272979736328, 211.13671875, 186.3625030517578, 163.21005249023438, 670.6818237304688, 493.86090087890625, 481.74688720703125, 415.42474365234375, 390.9017028808594, 296.1788635253906, 284.893310546875, 272.12664794921875, 239.7988739013672, 217.64981079101562, 198.22225952148438, 192.18711853027344, 180.72325134277344, 159.4014129638672, 151.22679138183594, 140.54991149902344, 137.6519775390625, 129.5115966796875, 128.48765563964844, 128.02011108398438, 126.62638092041016, 107.44979095458984, 106.7463150024414, 101.82001495361328, 86.97698211669922, 81.05391693115234, 77.37450408935547, 77.1981201171875, 68.26624298095703, 63.034297943115234, 381.3689270019531, 81.06083679199219, 1073.0509033203125, 360.1536560058594, 319.6171875, 303.20477294921875, 248.28564453125, 219.0756072998047, 200.06216430664062, 199.55137634277344, 147.91766357421875, 126.97245025634766, 116.45831298828125, 105.27366638183594, 78.44152069091797, 72.37987518310547, 70.57097625732422, 55.35261154174805, 42.40631103515625, 40.44902801513672, 39.75044250488281, 36.753501892089844, 29.118684768676758, 23.355249404907227, 207.58282470703125, 74.9472885131836, 126.26643371582031, 32.386314392089844, 283.7152099609375, 89.4775619506836, 0.5826595425605774, 113.70455169677734, 85.47331237792969, 96.29544067382812, 58.26318359375, 40.793277740478516, 371.5205383300781, 350.66131591796875, 312.1446533203125, 195.82789611816406, 187.67010498046875, 158.25152587890625, 112.26068115234375, 98.36907958984375, 71.55767059326172, 66.56796264648438, 57.3582878112793, 53.5589714050293, 52.747684478759766, 51.50607681274414, 37.77101135253906, 37.01988983154297, 26.79450798034668, 25.58787727355957, 24.185884475708008, 24.130281448364258, 24.02056312561035, 22.698801040649414, 20.85147476196289, 15.833951950073242, 15.825949668884277, 11.553096771240234, 10.283990859985352, 9.638537406921387, 9.236249923706055, 6.03233003616333, 67.87798309326172, 117.06494903564453, 65.63877868652344, 120.90222930908203, 78.11724090576172, 84.26840209960938, 84.35848999023438, 36.834136962890625, 33.569923400878906, 39.22199249267578, 31.39124870300293, 27.847755432128906, 33.19729232788086, 27.789939880371094, 1801.8349609375, 927.6119384765625, 312.2287292480469, 253.58140563964844, 28.194101333618164, 24.744136810302734, 3.861011505126953, 85.87470245361328, 359.7974548339844, 109.16703033447266, 72.68389892578125, 72.77511596679688, 37.76445770263672, 0.045767851173877716, 0.04576009511947632, 0.04573924094438553, 0.04573926702141762, 0.04573788121342659, 0.04573892056941986, 0.0457371324300766, 0.04573655501008034, 0.045735083520412445, 0.045734915882349014, 0.04573603346943855, 0.045733969658613205, 0.04573456570506096, 0.045733463019132614, 0.04573294147849083, 0.04573274776339531, 0.045733511447906494, 5.665534019470215, 4.8048577308654785, 278.7037658691406, 275.74517822265625, 252.79640197753906, 217.41766357421875, 208.7871856689453, 191.04876708984375, 190.67300415039062, 186.20388793945312, 169.8237762451172, 129.7923583984375, 126.72830200195312, 124.80585479736328, 118.96733856201172, 115.88690185546875, 99.01454162597656, 85.28824615478516, 67.49485778808594, 58.88557434082031, 57.02508544921875, 46.63398361206055, 43.70905303955078, 34.982017517089844, 19.808849334716797, 10.788054466247559, 2.8872623443603516, 0.05196600407361984, 0.05196481943130493, 0.05196482315659523, 0.05196424946188927, 0.0519636869430542, 0.0519636869430542, 0.05196402221918106, 0.05196408927440643, 339.0310974121094, 309.9100646972656, 249.59524536132812, 210.03500366210938, 188.17962646484375, 168.83985900878906, 137.7682647705078, 132.9656982421875, 127.0119400024414, 102.19874572753906, 98.54399108886719, 69.82355499267578, 69.33065032958984, 69.07102966308594, 62.2776985168457, 54.83119201660156, 45.70094680786133, 43.99386978149414, 41.782867431640625, 34.785335540771484, 29.33477020263672, 24.519123077392578, 14.190199851989746, 13.60472297668457, 8.41637897491455, 101.43758392333984, 0.04844406992197037, 0.048434577882289886, 0.048434577882289886, 0.048434577882289886, 0.0484372079372406, 0.04843524470925331, 0.048435524106025696, 158.0303955078125, 153.81298828125, 107.69441986083984, 83.94522857666016, 79.19921112060547, 46.05989456176758, 45.911380767822266, 30.724239349365234, 27.367788314819336, 11.437602996826172, 5.508723258972168, 3.625227451324463, 2.6504592895507812, 1.8217922449111938, 0.030353253707289696, 0.030352894216775894, 0.030351536348462105, 0.030351540073752403, 0.030351465567946434, 0.030350666493177414, 0.030350474640727043, 0.03035042993724346, 0.030350513756275177, 0.03035042993724346, 0.03035045973956585, 0.030350176617503166, 0.030351171270012856, 0.03035011701285839, 0.03035006672143936, 0.030349986627697945, 0.030349986627697945, 0.03035026602447033, 0.030350683256983757, 0.03035111539065838, 0.030352482572197914, 0.030351346358656883, 0.030351249501109123, 0.0303509421646595, 0.030350644141435623, 0.0303506962954998], \"Term\": [\"ax\", \"line\", \"host\", \"people\", \"nntp_poste\", \"may\", \"write\", \"drive\", \"system\", \"organization\", \"say\", \"key\", \"program\", \"would\", \"use\", \"file\", \"be\", \"go\", \"need\", \"car\", \"window\", \"think\", \"bit\", \"problem\", \"thank\", \"evidence\", \"get\", \"article\", \"believe\", \"support\", \"go\", \"be\", \"s\", \"really\", \"still\", \"back\", \"team\", \"last\", \"bad\", \"let\", \"hear\", \"game\", \"put\", \"lot\", \"play\", \"win\", \"maybe\", \"ever\", \"big\", \"lose\", \"remember\", \"whole\", \"ill\", \"discussion\", \"away\", \"pretty\", \"couple\", \"yet\", \"guess\", \"light\", \"could\", \"enough\", \"have\", \"think\", \"actually\", \"article\", \"great\", \"d\", \"would\", \"little\", \"take\", \"time\", \"write\", \"know\", \"good\", \"well\", \"much\", \"come\", \"day\", \"get\", \"tell\", \"thing\", \"see\", \"year\", \"make\", \"want\", \"say\", \"even\", \"seem\", \"way\", \"look\", \"line\", \"first\", \"question\", \"group\", \"talk\", \"book\", \"answer\", \"player\", \"accept\", \"free\", \"god\", \"difference\", \"truth\", \"copy\", \"value\", \"general\", \"slow\", \"black\", \"important\", \"certain\", \"concern\", \"page\", \"white\", \"thought\", \"share\", \"posting\", \"knowledge\", \"miss\", \"office\", \"possibility\", \"logic\", \"respect\", \"however\", \"issue\", \"non\", \"read\", \"order\", \"may\", \"different\", \"rule\", \"assume\", \"often\", \"example\", \"view\", \"must\", \"part\", \"rather\", \"like\", \"case\", \"follow\", \"other\", \"consider\", \"many\", \"also\", \"point\", \"post\", \"reason\", \"mean\", \"exist\", \"find\", \"true\", \"ask\", \"make\", \"give\", \"number\", \"call\", \"evidence\", \"law\", \"child\", \"kill\", \"faith\", \"death\", \"religion\", \"die\", \"atheist\", \"country\", \"belief\", \"christian\", \"israeli\", \"church\", \"act\", \"war\", \"conclusion\", \"drug\", \"religious\", \"reality\", \"crime\", \"murder\", \"deny\", \"jewish\", \"christianity\", \"shall\", \"nature\", \"land\", \"revelation\", \"moral\", \"woman\", \"human\", \"man\", \"life\", \"people\", \"believe\", \"claim\", \"attack\", \"state\", \"sense\", \"action\", \"person\", \"live\", \"say\", \"fact\", \"reason\", \"explain\", \"force\", \"world\", \"right\", \"even\", \"host\", \"nntp_poste\", \"thank\", \"mail\", \"card\", \"computer\", \"email\", \"entry\", \"info\", \"appreciate\", \"pin\", \"graphic\", \"tape\", \"instal\", \"network\", \"distribution\", \"ca\", \"disclaimer\", \"crash\", \"processor\", \"session\", \"co\", \"background\", \"ram\", \"sun\", \"related\", \"band\", \"button\", \"implementation\", \"configuration\", \"machine\", \"phone\", \"reply\", \"message\", \"interested\", \"line\", \"send\", \"help\", \"load\", \"problem\", \"need\", \"address\", \"sound\", \"organization\", \"system\", \"list\", \"information\", \"use\", \"run\", \"work\", \"new\", \"write\", \"look\", \"try\", \"post\", \"get\", \"large\", \"report\", \"power\", \"small\", \"increase\", \"section\", \"size\", \"self\", \"character\", \"remove\", \"wing\", \"press\", \"reduce\", \"special\", \"operate\", \"usually\", \"site\", \"obtain\", \"hot\", \"air\", \"official\", \"table\", \"cool\", \"minor\", \"industry\", \"actual\", \"prefer\", \"excuse\", \"resource\", \"cycle\", \"appropriate\", \"normal\", \"area\", \"current\", \"effect\", \"level\", \"will\", \"contain\", \"high\", \"type\", \"detail\", \"low\", \"plan\", \"build\", \"source\", \"return\", \"control\", \"use\", \"include\", \"cause\", \"year\", \"number\", \"also\", \"ax\", \"color\", \"picture\", \"ignore\", \"originator\", \"weight\", \"average\", \"mine\", \"stupid\", \"baseball\", \"though\", \"btw\", \"somewhere\", \"male\", \"nntp_posting\", \"rider\", \"clean\", \"mirror\", \"employer\", \"yesterday\", \"expansion\", \"predict\", \"unlikely\", \"gift\", \"saturn\", \"damn\", \"approve\", \"offense\", \"warrant\", \"essentially\", \"gun\", \"encryption\", \"soon\", \"security\", \"private\", \"block\", \"police\", \"amount\", \"obviously\", \"weapon\", \"clipper\", \"basically\", \"quality\", \"safety\", \"drop\", \"firearm\", \"fit\", \"listen\", \"proper\", \"safe\", \"voice\", \"cop\", \"folk\", \"measure\", \"hate\", \"assumption\", \"tap\", \"push\", \"protection\", \"effective\", \"public\", \"protect\", \"method\", \"carry\", \"government\", \"break\", \"perform\", \"produce\", \"design\", \"right\", \"use\", \"state\", \"local\", \"system\", \"program\", \"file\", \"window\", \"test\", \"image\", \"application\", \"screen\", \"error\", \"server\", \"display\", \"advance\", \"function\", \"exactly\", \"format\", \"object\", \"motif\", \"atheism\", \"specify\", \"poor\", \"faq\", \"convert\", \"failure\", \"serial_number\", \"language\", \"description\", \"command\", \"imply\", \"compile\", \"pointer\", \"trap\", \"version\", \"blank\", \"set\", \"available\", \"create\", \"use\", \"source\", \"draw\", \"bit\", \"run\", \"change\", \"include\", \"car\", \"buy\", \"price\", \"sell\", \"pay\", \"sale\", \"patient\", \"com\", \"university\", \"cheap\", \"monitor\", \"replace\", \"advice\", \"unit\", \"eat\", \"disease\", \"dealer\", \"doctor\", \"expensive\", \"insurance\", \"warranty\", \"tax\", \"board\", \"medical\", \"health\", \"font\", \"damage\", \"dual\", \"serial\", \"corporation\", \"cost\", \"license\", \"condition\", \"offer\", \"money\", \"treatment\", \"new\", \"cover\", \"old\", \"software\", \"hardware\", \"product\", \"package\", \"code\", \"keyword\", \"cpu\", \"notice\", \"port\", \"feature\", \"external\", \"controller\", \"manager\", \"link\", \"apple\", \"algorithm\", \"multiple\", \"resolution\", \"export\", \"rsa\", \"management\", \"crypto\", \"compute\", \"enable\", \"super\", \"please\", \"platform\", \"buffer\", \"kit\", \"datum\", \"capability\", \"release\", \"pc\", \"support\", \"system\", \"tool\", \"available\", \"user\", \"include\", \"provide\", \"drive\", \"driver\", \"fast\", \"model\", \"speed\", \"disk\", \"device\", \"video\", \"bus\", \"performance\", \"scsi\", \"route\", \"printer\", \"digital\", \"ide\", \"cd\", \"headache\", \"ticket\", \"utility\", \"meg\", \"compression\", \"truck\", \"backup\", \"installation\", \"runner\", \"imagination\", \"discount\", \"rate\", \"disable\", \"joint\", \"handle\", \"mode\", \"vehicle\", \"memory\", \"transfer\", \"compare\", \"bit\", \"high\", \"science\", \"research\", \"goal\", \"field\", \"scientific\", \"review\", \"surface\", \"laboratory\", \"plane\", \"improve\", \"observation\", \"map\", \"ring\", \"component\", \"radiation\", \"experiment\", \"conference\", \"assist\", \"solar\", \"ozone\", \"correction\", \"evolution\", \"pub\", \"distant\", \"french\", \"observe\", \"mix\", \"japanese\", \"soft\", \"presentation\", \"technology\", \"study\", \"compare\", \"objective\", \"input\", \"box\", \"family\", \"switch\", \"mount\", \"criminal\", \"master\", \"signal\", \"door\", \"battery\", \"benefit\", \"circuit\", \"hook\", \"registration\", \"decent\", \"production\", \"lock\", \"noise\", \"lab\", \"remote\", \"up\", \"beautiful\", \"path\", \"amp\", \"exclude\", \"receiver\", \"voltage\", \"working\", \"scare\", \"speaker\", \"ground\", \"default\", \"house\", \"range\", \"output\", \"bike\", \"engine\", \"ride\", \"direct\", \"meet\", \"pack\", \"mile\", \"cable\", \"terrorism\", \"economic\", \"dog\", \"girl\", \"bug\", \"warn\", \"attention\", \"spec\", \"curious\", \"historical\", \"daughter\", \"previously\", \"tire\", \"motor\", \"belt\", \"positively\", \"superior\", \"meter\", \"rear\", \"timing\", \"tear\", \"sister\", \"road\", \"front\", \"space\", \"launch\", \"orbit\", \"mission\", \"satellite\", \"moon\", \"rocket\", \"flight\", \"shuttle\", \"lunar\", \"sky\", \"environmental\", \"planetary\", \"advanced\", \"telescope\", \"atmosphere\", \"orbiter\", \"orbital\", \"transport\", \"global\", \"booster\", \"privately\", \"engineering\", \"crew\", \"fuel\", \"module\", \"earth\", \"fly\", \"maneuver\", \"development\", \"vehicle\", \"project\", \"schedule\", \"design\", \"turkish\", \"armenian\", \"turk\", \"privacy\", \"violence\", \"proceed\", \"genocide\", \"massacre\", \"tavare\", \"serdar_argic\", \"needless\", \"appressian\", \"nuclear_weapon\", \"armenians\", \"accidental\", \"fascist\", \"exterminate\", \"crisis\", \"governmental\", \"extermination\", \"terror\", \"arrival\", \"kurdish\", \"homeland\", \"please_respond\", \"diplomatic\", \"bayonet\", \"corpse\", \"inquisition\", \"soviet_armenian\", \"slaughter\", \"escape\", \"russian\", \"today\", \"road\", \"village\", \"government\", \"destroy\", \"town\", \"close\", \"soldier\", \"officer\", \"reply\", \"lie\", \"key\", \"chip\", \"secure\", \"secret\", \"outer\", \"potentially\", \"conjecture\", \"register\", \"bit\", \"technology\", \"attack\", \"standard\", \"phone\", \"encrypt\", \"ripem\", \"decrypt\", \"patent\", \"pem\", \"agency\", \"protocol\", \"law_enforcement\", \"escrow\", \"mime\", \"communication\", \"plaintext\", \"sequence\", \"fingerprint\", \"recipient\", \"cipher\", \"random\", \"public\", \"information\", \"vote\", \"update\", \"trust\", \"aware\", \"electronic\", \"proposal\", \"additional\", \"draft\", \"engineer\", \"initial\", \"guilty\", \"cub\", \"greatly_appreciate\", \"brave\", \"bounce\", \"giant\", \"subscription\", \"domain\", \"nicely\", \"static\", \"partially\", \"int\", \"compiler\", \"impedance\", \"initialize\", \"ucs\", \"cx_cx\", \"od\", \"iq\", \"scx\", \"mcx\", \"enviroleague\", \"youth\", \"internal\", \"period\", \"mouse\", \"procedure\", \"upgrade\", \"modem\", \"club\", \"soul\", \"floppy\", \"electrical\", \"violate\", \"plot\", \"segment\", \"campaign\", \"strength\", \"angle\", \"bed\", \"po_andrew\", \"swap\", \"poll\", \"functionality\", \"evidently\", \"moa\", \"si\", \"exclusion\", \"clock\", \"wire\", \"jiggle\", \"worked\", \"jolt\", \"connect\", \"pain\", \"physical\", \"insist\", \"hole\", \"better\", \"regardless\", \"probe\", \"era\", \"starter\", \"precisely\", \"batter\", \"seldom\", \"craig\", \"inferior\", \"reliever\", \"signing\", \"marker\", \"seller\", \"pitcher\", \"detect\", \"metal\", \"dig\", \"neon\", \"elevator\", \"conductor\", \"hull\", \"collapse\", \"bulb\", \"tube\", \"axis\", \"ellipse\", \"mobility\", \"semiconductor\", \"enjoyable\", \"cartridge\", \"together\", \"physical\", \"item\", \"valid\", \"learn\", \"food\", \"choose\"], \"Total\": [37296.0, 14552.0, 5602.0, 7424.0, 5118.0, 7315.0, 13525.0, 2746.0, 4380.0, 6010.0, 8623.0, 1803.0, 2872.0, 13157.0, 5923.0, 2638.0, 7645.0, 7530.0, 4307.0, 1976.0, 2207.0, 7544.0, 1796.0, 3806.0, 2814.0, 2855.0, 6888.0, 6890.0, 3250.0, 1725.0, 7530.044921875, 7645.68798828125, 4196.7685546875, 3019.27294921875, 2658.273681640625, 2467.025390625, 2275.703857421875, 2227.872314453125, 2100.915283203125, 2079.50732421875, 2054.217041015625, 1974.23876953125, 1848.486083984375, 1716.8023681640625, 1587.3040771484375, 1560.5662841796875, 1442.9847412109375, 1375.7869873046875, 1320.1729736328125, 1278.637939453125, 1242.807861328125, 1073.9453125, 1014.3719482421875, 977.0682983398438, 922.3579711914062, 900.2288818359375, 879.795166015625, 860.7101440429688, 837.980712890625, 838.9984130859375, 5118.33544921875, 1671.232421875, 2845.008544921875, 7544.654296875, 1518.4190673828125, 6890.02490234375, 1796.906982421875, 2273.9765625, 13157.7548828125, 1970.2149658203125, 4623.60791015625, 6412.05322265625, 13525.23046875, 8464.8583984375, 6066.33740234375, 5167.07177734375, 3674.7265625, 4713.28173828125, 2471.287353515625, 6888.52978515625, 3239.447265625, 4587.099609375, 5967.3154296875, 4826.04541015625, 8120.18017578125, 4498.7998046875, 8623.0810546875, 4003.47021484375, 3065.148193359375, 4164.4482421875, 4006.179443359375, 14552.0302734375, 3712.42578125, 3193.119384765625, 2385.64697265625, 1745.9119873046875, 1491.59033203125, 1257.03662109375, 1082.7738037109375, 1062.2952880859375, 1047.685791015625, 1045.4075927734375, 909.9688110351562, 905.2395629882812, 841.5333251953125, 826.8548583984375, 807.5309448242188, 729.5982055664062, 727.6993408203125, 722.9385375976562, 714.5564575195312, 633.372314453125, 609.8223876953125, 581.1953735351562, 570.4107055664062, 526.4451293945312, 518.5308837890625, 517.2703857421875, 513.0501098632812, 501.13873291015625, 494.5289306640625, 483.69989013671875, 468.6913146972656, 2120.619873046875, 1895.5347900390625, 1014.2657470703125, 2632.31884765625, 1951.64306640625, 7315.69921875, 1677.3155517578125, 1145.1075439453125, 982.8493041992188, 1079.9964599609375, 1275.6783447265625, 1128.0101318359375, 2288.380615234375, 2352.443359375, 1530.3431396484375, 959.244140625, 2679.73779296875, 2252.04052734375, 1282.8321533203125, 1615.34619140625, 3881.0791015625, 5704.39306640625, 3634.088623046875, 2724.407958984375, 3408.431640625, 2756.12451171875, 1761.2275390625, 3824.352294921875, 1657.2427978515625, 2360.574462890625, 8120.18017578125, 4079.019775390625, 2921.242919921875, 2934.923583984375, 2855.69091796875, 1720.5445556640625, 1365.7349853515625, 1314.623046875, 1254.6275634765625, 1056.6207275390625, 925.74853515625, 922.2777099609375, 819.7242431640625, 813.0835571289062, 745.3587036132812, 722.5739135742188, 688.1442260742188, 654.961669921875, 647.43798828125, 645.0399780273438, 632.6173095703125, 617.87939453125, 599.3082885742188, 550.2454223632812, 548.5949096679688, 545.1464233398438, 542.884765625, 541.6823120117188, 510.1197814941406, 508.458251953125, 469.11602783203125, 452.0628662109375, 436.4814453125, 424.552734375, 655.1708374023438, 733.977783203125, 1916.1632080078125, 1306.3553466796875, 7424.5654296875, 3250.443115234375, 2004.6280517578125, 785.341552734375, 2429.7001953125, 1728.7342529296875, 715.7771606445312, 1553.8935546875, 1635.6011962890625, 8623.0810546875, 2151.716796875, 3408.431640625, 988.8152465820312, 783.2384643554688, 1483.8861083984375, 3388.778564453125, 4003.47021484375, 5602.25244140625, 5118.89697265625, 2814.219970703125, 2250.147705078125, 1623.0943603515625, 1574.638671875, 1094.55810546875, 990.3404541015625, 892.6971435546875, 757.92919921875, 749.4880981445312, 733.8031616210938, 689.96044921875, 670.1350708007812, 624.4971313476562, 611.327392578125, 368.44903564453125, 324.09991455078125, 294.3662109375, 287.14111328125, 278.32818603515625, 239.47549438476562, 237.93846130371094, 234.37681579589844, 211.37493896484375, 184.65638732910156, 168.5716552734375, 166.2697296142578, 162.4014434814453, 157.53466796875, 1167.8668212890625, 900.32568359375, 2358.101318359375, 1711.69091796875, 943.4105834960938, 14552.0302734375, 1956.2554931640625, 2647.62548828125, 306.93109130859375, 3806.691162109375, 4307.10009765625, 1250.700927734375, 1039.8719482421875, 6010.09130859375, 4380.7802734375, 1479.941650390625, 1932.1800537109375, 5923.61962890625, 2816.841552734375, 4291.513671875, 3090.9453125, 13525.23046875, 4006.179443359375, 4054.83837890625, 2724.407958984375, 6888.52978515625, 1507.7261962890625, 1343.607177734375, 1746.734375, 1266.6103515625, 908.9979858398438, 724.3123779296875, 712.0767211914062, 617.3333129882812, 596.513671875, 593.075927734375, 571.35693359375, 563.3698120117188, 527.785400390625, 518.5367431640625, 482.4161682128906, 821.2909545898438, 424.4859619140625, 410.64886474609375, 388.4435729980469, 385.77508544921875, 375.80767822265625, 354.25836181640625, 351.3858337402344, 342.10369873046875, 340.9005126953125, 322.7131042480469, 307.7778625488281, 305.16650390625, 304.2143249511719, 300.0118408203125, 463.8232421875, 546.3963623046875, 1231.1807861328125, 1027.5882568359375, 822.5100708007812, 923.9065551757812, 1860.599365234375, 854.3681030273438, 2122.628173828125, 1387.321533203125, 731.41943359375, 1156.6217041015625, 628.50830078125, 1472.421875, 1751.9825439453125, 1124.43212890625, 1103.6788330078125, 5923.61962890625, 2349.632568359375, 1349.6932373046875, 4826.04541015625, 2921.242919921875, 5704.39306640625, 37296.53125, 1578.36328125, 950.2821655273438, 764.458740234375, 763.2926635742188, 676.3690795898438, 673.5166015625, 629.4267578125, 574.6692504882812, 571.813232421875, 519.8622436523438, 510.63055419921875, 493.7123107910156, 487.5985412597656, 465.7637939453125, 458.5301208496094, 457.7639465332031, 428.2284240722656, 381.827880859375, 379.6826171875, 367.2826843261719, 366.4102478027344, 363.714599609375, 354.5719299316406, 351.2162170410156, 332.3830871582031, 310.3180236816406, 303.9860534667969, 299.882080078125, 289.1501159667969, 1542.4779052734375, 814.2803344726562, 749.08447265625, 688.9660034179688, 671.682861328125, 619.2928466796875, 565.7147216796875, 555.5170288085938, 528.488525390625, 521.43115234375, 519.6465454101562, 494.2950439453125, 483.6816101074219, 477.47955322265625, 454.1069030761719, 444.4834289550781, 431.1357727050781, 427.1722106933594, 414.73321533203125, 414.03509521484375, 395.4904479980469, 364.21051025390625, 363.6069641113281, 359.049072265625, 349.0333557128906, 338.9286804199219, 337.5359802246094, 332.13409423828125, 319.6177673339844, 312.0455322265625, 1630.459228515625, 720.7630004882812, 623.44921875, 831.6177978515625, 2105.03857421875, 707.0940551757812, 497.74749755859375, 775.4981079101562, 928.1864013671875, 3388.778564453125, 5923.61962890625, 2429.7001953125, 827.7578125, 4380.7802734375, 2872.087890625, 2638.090087890625, 2207.791748046875, 1272.49169921875, 1151.1954345703125, 993.5711059570312, 867.6551513671875, 865.4127197265625, 830.6928100585938, 829.4791870117188, 791.595458984375, 770.9920043945312, 669.511962890625, 616.5841064453125, 571.1173706054688, 467.3577575683594, 431.9501647949219, 393.18963623046875, 391.5472412109375, 388.8520202636719, 363.70465087890625, 328.8110656738281, 317.7984313964844, 312.28240966796875, 310.7386779785156, 297.1092529296875, 291.2488098144531, 270.2561950683594, 222.3068084716797, 221.3320770263672, 1094.7586669921875, 319.745361328125, 2043.9268798828125, 1581.2230224609375, 1061.8839111328125, 5923.61962890625, 1751.9825439453125, 682.2880249023438, 1796.10302734375, 2816.841552734375, 1739.8935546875, 2349.632568359375, 1976.9759521484375, 1543.2955322265625, 1271.6905517578125, 1186.9349365234375, 1147.6658935546875, 1147.0074462890625, 882.3193359375, 751.5574340820312, 671.3419189453125, 648.8241577148438, 570.3457641601562, 479.7530212402344, 472.23077392578125, 463.6340637207031, 444.8204650878906, 352.40496826171875, 346.6170959472656, 344.1405334472656, 303.3822326660156, 298.3923034667969, 296.4006042480469, 294.7330627441406, 272.7906799316406, 261.7080993652344, 245.97239685058594, 237.53543090820312, 220.7027587890625, 219.73074340820312, 219.2218475341797, 204.30137634277344, 1123.39208984375, 449.4007568359375, 544.9332885742188, 810.6729125976562, 1154.1380615234375, 380.5517883300781, 3090.9453125, 784.6598510742188, 1859.0948486328125, 1472.15283203125, 827.1587524414062, 680.1448364257812, 672.7340087890625, 648.2376708984375, 611.0355834960938, 564.2606201171875, 484.82550048828125, 476.3654479980469, 446.9058532714844, 388.8240966796875, 376.2822570800781, 348.1455078125, 319.0720520019531, 316.40142822265625, 297.220703125, 274.5050048828125, 261.4457702636719, 214.06576538085938, 208.79147338867188, 204.82260131835938, 198.91273498535156, 165.8223876953125, 156.2292938232422, 152.20179748535156, 120.89356231689453, 96.36809539794922, 94.66047668457031, 77.49896240234375, 1160.088134765625, 156.43588256835938, 545.11328125, 673.7032470703125, 1725.9561767578125, 4380.7802734375, 394.1300048828125, 1581.2230224609375, 897.2861328125, 2349.632568359375, 1916.631591796875, 2746.754150390625, 1245.15087890625, 854.4847412109375, 767.0693969726562, 745.5624389648438, 691.629638671875, 649.3926391601562, 548.7669677734375, 461.2620849609375, 437.90216064453125, 388.5999450683594, 376.8670349121094, 354.7389221191406, 339.23309326171875, 278.0484313964844, 250.91180419921875, 220.9388427734375, 205.11117553710938, 155.28482055664062, 136.14012145996094, 134.84381103515625, 130.09616088867188, 107.04341125488281, 93.03528594970703, 88.14988708496094, 65.5521240234375, 57.00257110595703, 819.3147583007812, 43.11385726928711, 42.773948669433594, 447.06097412109375, 466.89453125, 292.34112548828125, 881.0283203125, 386.3302307128906, 745.6649780273438, 1796.10302734375, 2122.628173828125, 1030.1876220703125, 697.8223266601562, 615.245361328125, 492.9969787597656, 433.2835693359375, 335.9146728515625, 288.240234375, 283.0287780761719, 268.12689208984375, 244.38131713867188, 237.3894805908203, 210.099853515625, 194.8879852294922, 168.67242431640625, 162.7976837158203, 159.8408660888672, 159.44021606445312, 159.22300720214844, 150.59271240234375, 132.45924377441406, 122.28562927246094, 121.73238372802734, 120.64358520507812, 120.18544006347656, 119.78251647949219, 118.61815643310547, 116.5036849975586, 101.58006286621094, 96.55339813232422, 95.62338256835938, 1178.1419677734375, 768.5604858398438, 745.6649780273438, 331.4371337890625, 615.6468505859375, 528.0049438476562, 505.9749450683594, 424.2318115234375, 408.5063171386719, 373.0679626464844, 370.7244567871094, 345.0046691894531, 302.21539306640625, 259.7337646484375, 256.3313903808594, 252.19091796875, 248.55650329589844, 206.34793090820312, 205.90255737304688, 192.04185485839844, 183.10548400878906, 173.37872314453125, 159.97991943359375, 153.77537536621094, 145.49380493164062, 137.65130615234375, 133.2183380126953, 132.5317840576172, 124.70195770263672, 124.62958526611328, 118.86542510986328, 105.32027435302734, 101.7580337524414, 99.74849700927734, 479.0137023925781, 164.90866088867188, 350.0705261230469, 294.5523986816406, 291.9970397949219, 671.9058837890625, 495.08502197265625, 482.97100830078125, 416.64886474609375, 392.1258239746094, 297.4029846191406, 286.117431640625, 273.35076904296875, 241.02297973632812, 218.87391662597656, 199.4463653564453, 193.41122436523438, 181.94735717773438, 160.62551879882812, 152.45089721679688, 141.77401733398438, 138.87608337402344, 130.73570251464844, 129.71176147460938, 129.2442169189453, 127.85047912597656, 108.67388916015625, 107.97041320800781, 103.04411315917969, 88.20108032226562, 82.27801513671875, 78.59860229492188, 78.4222183227539, 69.49034118652344, 64.2583999633789, 460.6477966308594, 394.10296630859375, 1074.2867431640625, 361.3892822265625, 320.8528137207031, 304.4403991699219, 249.52125549316406, 220.31121826171875, 201.2977752685547, 200.7869873046875, 149.1532745361328, 128.20806884765625, 117.69391632080078, 106.50926971435547, 79.6771240234375, 73.615478515625, 71.80657958984375, 56.588226318359375, 43.64192581176758, 41.68464279174805, 40.98605728149414, 37.98911666870117, 30.354297637939453, 24.590862274169922, 251.2091064453125, 92.86843872070312, 181.04302978515625, 51.490665435791016, 465.7115478515625, 204.68264770507812, 1.8182706832885742, 358.37030029296875, 292.34112548828125, 453.6751403808594, 225.64292907714844, 928.1864013671875, 372.7440185546875, 351.8847961425781, 313.3681335449219, 197.05137634277344, 188.89358520507812, 159.47500610351562, 113.48416137695312, 99.59255981445312, 72.7811508178711, 67.79144287109375, 58.58177185058594, 54.78245544433594, 53.971168518066406, 52.72956085205078, 38.9944953918457, 38.24337387084961, 28.017990112304688, 26.811359405517578, 25.409366607666016, 25.353763580322266, 25.24404525756836, 23.922283172607422, 22.0749568939209, 17.05743408203125, 17.0494327545166, 12.776578903198242, 11.507472038269043, 10.862018585205078, 10.459731101989746, 7.25581169128418, 82.49573516845703, 172.1899871826172, 181.65306091308594, 893.1182250976562, 460.6477966308594, 540.3968505859375, 2105.03857421875, 338.4097595214844, 320.6482238769531, 1162.1102294921875, 614.8795166015625, 163.69996643066406, 2358.101318359375, 518.3853759765625, 1803.0753173828125, 928.8521118164062, 313.4689636230469, 254.82164001464844, 29.434343338012695, 25.984378814697266, 5.101253032684326, 177.34332275390625, 1796.10302734375, 1178.1419677734375, 785.341552734375, 920.2667846679688, 900.32568359375, 1.2861073017120361, 1.2860790491104126, 1.2860082387924194, 1.286019206047058, 1.2860066890716553, 1.286044955253601, 1.2860157489776611, 1.2860134840011597, 1.2859913110733032, 1.285996437072754, 1.2860416173934937, 1.285990834236145, 1.2860099077224731, 1.2859915494918823, 1.2859928607940674, 1.2859911918640137, 1.2860143184661865, 1630.459228515625, 1932.1800537109375, 279.9377746582031, 276.97918701171875, 254.03041076660156, 218.65167236328125, 210.0211944580078, 192.28277587890625, 191.90701293945312, 187.43789672851562, 171.0577850341797, 131.0263671875, 127.96231079101562, 126.03986358642578, 120.20134735107422, 117.12091064453125, 100.24855041503906, 86.52225494384766, 68.72886657714844, 60.11958694458008, 58.259098052978516, 47.86799621582031, 44.94306564331055, 36.21603012084961, 21.042858123779297, 12.022063255310059, 4.12127161026001, 1.2859857082366943, 1.2859810590744019, 1.2859827280044556, 1.28598153591156, 1.2859785556793213, 1.2859785556793213, 1.28599214553833, 1.2859967947006226, 340.26861572265625, 311.1475830078125, 250.83277893066406, 211.2725372314453, 189.4171600341797, 170.077392578125, 139.00579833984375, 134.20323181152344, 128.24948120117188, 103.43628692626953, 99.78153228759766, 71.06109619140625, 70.56819152832031, 70.3085708618164, 63.515235900878906, 56.068729400634766, 46.93848419189453, 45.231407165527344, 43.02040481567383, 36.02287292480469, 30.572309494018555, 25.756662368774414, 15.427738189697266, 14.842262268066406, 9.65391731262207, 181.33592224121094, 1.2861170768737793, 1.2859866619110107, 1.2859864234924316, 1.2859865427017212, 1.286074161529541, 1.286026120185852, 1.2861160039901733, 159.2860107421875, 155.068603515625, 108.95003509521484, 85.20085144042969, 80.454833984375, 47.315513610839844, 47.16699981689453, 31.9798583984375, 28.6234073638916, 12.693222045898438, 6.764342308044434, 4.88084602355957, 3.9060781002044678, 3.07741117477417, 1.2859915494918823, 1.2860220670700073, 1.2859896421432495, 1.2860000133514404, 1.2860041856765747, 1.2859821319580078, 1.2859739065170288, 1.2859742641448975, 1.28597891330719, 1.2859762907028198, 1.285979986190796, 1.285973072052002, 1.2860159873962402, 1.2859749794006348, 1.2859729528427124, 1.2859699726104736, 1.2859699726104736, 1.285982608795166, 1.2860015630722046, 1.2860265970230103, 1.2861160039901733, 1.2860640287399292, 1.28607177734375, 1.286057949066162, 1.2860302925109863, 1.2860835790634155], \"loglift\": [30.0, 29.0, 28.0, 27.0, 26.0, 25.0, 24.0, 23.0, 22.0, 21.0, 20.0, 19.0, 18.0, 17.0, 16.0, 15.0, 14.0, 13.0, 12.0, 11.0, 10.0, 9.0, 8.0, 7.0, 6.0, 5.0, 4.0, 3.0, 2.0, 1.0, 1.1032999753952026, 1.1031999588012695, 1.1030999422073364, 1.1030000448226929, 1.1030000448226929, 1.1029000282287598, 1.1029000282287598, 1.1029000282287598, 1.1029000282287598, 1.1028000116348267, 1.1028000116348267, 1.1028000116348267, 1.1028000116348267, 1.1026999950408936, 1.1026999950408936, 1.1026999950408936, 1.1025999784469604, 1.1024999618530273, 1.1024999618530273, 1.1024999618530273, 1.1024999618530273, 1.1023000478744507, 1.1022000312805176, 1.1022000312805176, 1.1021000146865845, 1.1021000146865845, 1.1019999980926514, 1.1019999980926514, 1.1019999980926514, 1.1019999980926514, 1.0951000452041626, 1.1014000177383423, 1.0954999923706055, 1.0855000019073486, 1.0980000495910645, 1.0709999799728394, 1.0953999757766724, 1.0891000032424927, 1.0342999696731567, 1.0895999670028687, 1.0634000301361084, 1.0261000394821167, 0.9842000007629395, 1.0006999969482422, 1.0175000429153442, 1.0242999792099, 1.0404000282287598, 1.016800045967102, 1.0667999982833862, 0.9465000033378601, 1.0317000150680542, 0.9866999983787537, 0.9445000290870667, 0.9259999990463257, 0.7530999779701233, 0.9045000076293945, 0.7161999940872192, 0.9016000032424927, 0.9672999978065491, 0.8180999755859375, 0.7964000105857849, -0.16840000450611115, 0.807200014591217, 1.8597999811172485, 1.8596999645233154, 1.8595000505447388, 1.8594000339508057, 1.8592000007629395, 1.8590999841690063, 1.8589999675750732, 1.8589999675750732, 1.8589999675750732, 1.8588000535964966, 1.8588000535964966, 1.8587000370025635, 1.8587000370025635, 1.8587000370025635, 1.8585000038146973, 1.8585000038146973, 1.8585000038146973, 1.8585000038146973, 1.858299970626831, 1.858199954032898, 1.8581000566482544, 1.8580000400543213, 1.8579000234603882, 1.857800006866455, 1.857800006866455, 1.857800006866455, 1.857699990272522, 1.857699990272522, 1.857699990272522, 1.8575999736785889, 1.857300043106079, 1.8553999662399292, 1.8560999631881714, 1.836899995803833, 1.8423000574111938, 1.8109999895095825, 1.8401999473571777, 1.8407000303268433, 1.8389999866485596, 1.8222999572753906, 1.8118000030517578, 1.8180999755859375, 1.764799952507019, 1.757699966430664, 1.780500054359436, 1.8287999629974365, 1.7026000022888184, 1.697100043296814, 1.779099941253662, 1.725000023841858, 1.5327999591827393, 1.2661000490188599, 1.3909000158309937, 1.4282000064849854, 1.291700005531311, 1.36489999294281, 1.5880999565124512, 1.1612000465393066, 1.6087000370025635, 1.385200023651123, 0.6018000245094299, 0.9577000141143799, 1.1353000402450562, 1.031000018119812, 2.36680006980896, 2.366499900817871, 2.366300106048584, 2.366300106048584, 2.366300106048584, 2.3661000728607178, 2.3659000396728516, 2.3659000396728516, 2.3657000064849854, 2.3657000064849854, 2.365600109100342, 2.365499973297119, 2.3654000759124756, 2.3654000759124756, 2.365299940109253, 2.365299940109253, 2.365299940109253, 2.3652000427246094, 2.3652000427246094, 2.365000009536743, 2.365000009536743, 2.365000009536743, 2.365000009536743, 2.365000009536743, 2.364799976348877, 2.364799976348877, 2.3645999431610107, 2.364500045776367, 2.3643999099731445, 2.364300012588501, 2.3615000247955322, 2.3427999019622803, 2.204200029373169, 2.215399980545044, 1.8944000005722046, 2.0425000190734863, 2.064500093460083, 2.2685000896453857, 1.9097000360488892, 2.001199960708618, 2.2764999866485596, 1.9952000379562378, 1.961899995803833, 1.2307000160217285, 1.6963000297546387, 1.437000036239624, 2.103800058364868, 2.238300085067749, 1.7223999500274658, 0.9660000205039978, 0.6068999767303467, 2.4690001010894775, 2.4690001010894775, 2.4688000679016113, 2.4686999320983887, 2.4684998989105225, 2.4684998989105225, 2.468100070953369, 2.4679999351501465, 2.467900037765503, 2.4677000045776367, 2.467600107192993, 2.467600107192993, 2.4674999713897705, 2.467400074005127, 2.4672999382019043, 2.4672999382019043, 2.46589994430542, 2.4655001163482666, 2.465100049972534, 2.4649999141693115, 2.464900016784668, 2.464200019836426, 2.464099884033203, 2.4639999866485596, 2.4635000228881836, 2.462599992752075, 2.4619998931884766, 2.461899995803833, 2.461699962615967, 2.4614999294281006, 2.4460999965667725, 2.425100088119507, 2.3817999362945557, 2.353100061416626, 2.3749001026153564, 2.1398000717163086, 2.282099962234497, 2.2483999729156494, 2.4326999187469482, 2.09089994430542, 2.0573999881744385, 2.239799976348877, 2.2690999507904053, 1.951300024986267, 1.9682999849319458, 2.164900064468384, 2.082200050354004, 1.6610000133514404, 1.8005000352859497, 1.5814000368118286, 1.4637999534606934, 0.24770000576972961, 1.1378999948501587, 1.0777000188827515, 1.4205000400543213, 0.5388000011444092, 2.7007999420166016, 2.700700044631958, 2.700700044631958, 2.700700044631958, 2.7002999782562256, 2.700000047683716, 2.699899911880493, 2.699700117111206, 2.6995999813079834, 2.6995999813079834, 2.69950008392334, 2.69950008392334, 2.6993000507354736, 2.6993000507354736, 2.6991000175476074, 2.6989998817443848, 2.6988000869750977, 2.698699951171875, 2.698499917984009, 2.698499917984009, 2.6984000205993652, 2.698199987411499, 2.698199987411499, 2.6981000900268555, 2.6981000900268555, 2.6979000568389893, 2.697700023651123, 2.6975998878479004, 2.6975998878479004, 2.6975998878479004, 2.6956000328063965, 2.6879000663757324, 2.6594998836517334, 2.6605000495910645, 2.663300037384033, 2.651599884033203, 2.6108999252319336, 2.636899948120117, 2.562999963760376, 2.594899892807007, 2.6347999572753906, 2.5713999271392822, 2.6238999366760254, 2.3215999603271484, 2.2592999935150146, 2.309299945831299, 2.3117001056671143, 0.8647000193595886, 1.5406999588012695, 1.972000002861023, 0.8838000297546387, 1.3068000078201294, 0.4528999924659729, 2.857100009918213, 2.8564000129699707, 2.8559000492095947, 2.855600118637085, 2.855600118637085, 2.8554000854492188, 2.8554000854492188, 2.855299949645996, 2.85509991645813, 2.85509991645813, 2.8548998832702637, 2.8548998832702637, 2.85479998588562, 2.85479998588562, 2.854599952697754, 2.854599952697754, 2.854599952697754, 2.8543999195098877, 2.854099988937378, 2.854099988937378, 2.8540000915527344, 2.8540000915527344, 2.8538999557495117, 2.8538999557495117, 2.853800058364868, 2.853600025177002, 2.8533999919891357, 2.853300094604492, 2.8531999588012695, 2.853100061416626, 3.041800022125244, 3.041100025177002, 3.0409998893737793, 3.0408999919891357, 3.040800094604492, 3.0406999588012695, 3.0404999256134033, 3.0404000282287598, 3.040299892425537, 3.040299892425537, 3.040299892425537, 3.0401999950408936, 3.04010009765625, 3.04010009765625, 3.039900064468384, 3.039900064468384, 3.039799928665161, 3.039799928665161, 3.0397000312805176, 3.0397000312805176, 3.0394999980926514, 3.039299964904785, 3.039299964904785, 3.0392000675201416, 3.039099931716919, 3.0390000343322754, 3.0390000343322754, 3.0390000343322754, 3.038800001144409, 3.0387001037597656, 3.0383999347686768, 3.0309998989105225, 2.9595000743865967, 2.8931000232696533, 2.687299966812134, 2.886699914932251, 2.9623000621795654, 2.8254001140594482, 2.717900037765503, 1.8026000261306763, 1.4335999488830566, 1.9617999792099, 2.4820001125335693, 0.8611999750137329, 3.197499990463257, 3.197499990463257, 3.1974000930786133, 3.197000026702881, 3.196899890899658, 3.1967999935150146, 3.1965999603271484, 3.1965999603271484, 3.196500062942505, 3.196500062942505, 3.1963999271392822, 3.1963999271392822, 3.196199893951416, 3.196000099182129, 3.1958999633789062, 3.1953999996185303, 3.195199966430664, 3.1949000358581543, 3.1949000358581543, 3.1949000358581543, 3.1946001052856445, 3.1942999362945557, 3.194200038909912, 3.1940999031066895, 3.1940999031066895, 3.1939001083374023, 3.1937999725341797, 3.19350004196167, 3.192500114440918, 3.192500114440918, 3.1803998947143555, 3.1593000888824463, 2.7864999771118164, 2.4296998977661133, 2.5732998847961426, 1.5351999998092651, 2.1673998832702637, 2.633500099182129, 1.8752000331878662, 1.4785000085830688, 1.851699948310852, 1.3984999656677246, 3.607300043106079, 3.607100009918213, 3.6068999767303467, 3.6068999767303467, 3.606800079345703, 3.606800079345703, 3.6064999103546143, 3.606300115585327, 3.606100082397461, 3.6059999465942383, 3.605799913406372, 3.6054000854492188, 3.605299949645996, 3.605299949645996, 3.6052000522613525, 3.6043999195098877, 3.6043999195098877, 3.6043999195098877, 3.6038999557495117, 3.603800058364868, 3.603800058364868, 3.603800058364868, 3.6033999919891357, 3.6031999588012695, 3.6029000282287598, 3.602799892425537, 3.602400064468384, 3.602299928665161, 3.602299928665161, 3.601900100708008, 3.5764999389648438, 3.407099962234497, 3.3452000617980957, 3.034600019454956, 2.7983999252319336, 3.3427999019622803, 1.8330999612808228, 2.6542999744415283, 1.816100001335144, 3.9584999084472656, 3.9577999114990234, 3.9574999809265137, 3.9574999809265137, 3.95740008354187, 3.9572999477386475, 3.9570999145507812, 3.9567999839782715, 3.956700086593628, 3.9565999507904053, 3.956199884414673, 3.9560999870300293, 3.9558000564575195, 3.9554998874664307, 3.955399990081787, 3.955199956893921, 3.954900026321411, 3.9546000957489014, 3.9535999298095703, 3.9535000324249268, 3.9532999992370605, 3.953200101852417, 3.951900005340576, 3.9514999389648438, 3.9512999057769775, 3.949199914932251, 3.9465999603271484, 3.9463999271392822, 3.94350004196167, 3.9430999755859375, 3.943000078201294, 3.837599992752075, 3.759500026702881, 3.459399938583374, 2.68969988822937, 3.5215001106262207, 2.8657000064849854, 3.12280011177063, 2.234999895095825, 1.7833000421524048, 4.149099826812744, 4.148499965667725, 4.148099899291992, 4.147900104522705, 4.147900104522705, 4.14769983291626, 4.147600173950195, 4.147299766540527, 4.1468000411987305, 4.146699905395508, 4.146299839019775, 4.146200180053711, 4.145999908447266, 4.145899772644043, 4.145100116729736, 4.144599914550781, 4.143899917602539, 4.143499851226807, 4.141600131988525, 4.140500068664551, 4.140399932861328, 4.139999866485596, 4.138000011444092, 4.136199951171875, 4.135499954223633, 4.1305999755859375, 4.127799987792969, 4.125500202178955, 4.12060022354126, 4.1203999519348145, 3.529900074005127, 3.4363999366760254, 3.5371999740600586, 3.0706000328063965, 3.217600107192993, 2.604300022125244, 1.8216999769210815, 1.5914000272750854, 4.326000213623047, 4.325399875640869, 4.325200080871582, 4.324699878692627, 4.3242998123168945, 4.323500156402588, 4.32289981842041, 4.322800159454346, 4.3225998878479, 4.322199821472168, 4.322000026702881, 4.321300029754639, 4.320899963378906, 4.319900035858154, 4.3196001052856445, 4.319499969482422, 4.319499969482422, 4.319499969482422, 4.318999767303467, 4.31790018081665, 4.3171000480651855, 4.3171000480651855, 4.316999912261963, 4.316999912261963, 4.31689977645874, 4.316800117492676, 4.3165998458862305, 4.315100193023682, 4.3144001960754395, 4.314300060272217, 4.228799819946289, 4.1350998878479, 4.085299968719482, 3.7948999404907227, 4.488399982452393, 4.488100051879883, 4.48799991607666, 4.487500190734863, 4.487400054931641, 4.487100124359131, 4.487100124359131, 4.4868998527526855, 4.486400127410889, 4.4857001304626465, 4.485599994659424, 4.485599994659424, 4.485499858856201, 4.484499931335449, 4.484499931335449, 4.484000205993652, 4.483699798583984, 4.48330020904541, 4.482699871063232, 4.482399940490723, 4.48199987411499, 4.481500148773193, 4.481200218200684, 4.481200218200684, 4.480599880218506, 4.480599880218506, 4.480100154876709, 4.478700160980225, 4.478300094604492, 4.478099822998047, 4.339300155639648, 4.305200099945068, 3.984800100326538, 4.032599925994873, 3.9086999893188477, 4.796199798583984, 4.795599937438965, 4.795499801635742, 4.795100212097168, 4.794899940490723, 4.793900012969971, 4.793799877166748, 4.793600082397461, 4.793000221252441, 4.792500019073486, 4.791900157928467, 4.7916998863220215, 4.791299819946289, 4.79040002822876, 4.789999961853027, 4.789400100708008, 4.7891998291015625, 4.788700103759766, 4.788599967956543, 4.78849983215332, 4.788400173187256, 4.7866997718811035, 4.7866997718811035, 4.786099910736084, 4.78410005569458, 4.783100128173828, 4.782400131225586, 4.782299995422363, 4.780300140380859, 4.778800010681152, 4.6092000007629395, 3.216599941253662, 5.0879998207092285, 5.085700035095215, 5.085299968719482, 5.085100173950195, 5.084199905395508, 5.083499908447266, 5.083000183105469, 5.083000183105469, 5.0808000564575195, 5.079500198364258, 5.07859992980957, 5.077499866485596, 5.073500156402588, 5.072199821472168, 5.071800231933594, 5.0671000480651855, 5.060400009155273, 5.059100151062012, 5.058499813079834, 5.056099891662598, 5.047599792480469, 5.037600040435791, 4.898399829864502, 4.874800205230713, 4.728799819946289, 4.625500202178955, 4.593599796295166, 4.26170015335083, 3.9511001110076904, 3.941200017929077, 3.8594000339508057, 3.5392000675201416, 3.7351999282836914, 1.964400053024292, 5.258299827575684, 5.2581000328063965, 5.257599830627441, 5.255300045013428, 5.255099773406982, 5.253900051116943, 5.250699996948242, 5.249199867248535, 5.24459981918335, 5.243299961090088, 5.2403998374938965, 5.238999843597412, 5.23859977722168, 5.238100051879883, 5.229700088500977, 5.229000091552734, 5.216899871826172, 5.214799880981445, 5.212200164794922, 5.212100028991699, 5.211900234222412, 5.209099769592285, 5.204500198364258, 5.187099933624268, 5.187099933624268, 5.160900115966797, 5.149099826812744, 5.142099857330322, 5.137199878692627, 5.076900005340576, 5.066500186920166, 4.875699996948242, 4.243599891662598, 3.2618000507354736, 3.4870998859405518, 3.4033000469207764, 2.0445001125335693, 3.0436999797821045, 3.0048000812530518, 1.8727999925613403, 2.2867000102996826, 3.490299940109253, 0.9983999729156494, 2.3355000019073486, 5.287199974060059, 5.286499977111816, 5.283899784088135, 5.2829999923706055, 5.244800090789795, 5.238900184631348, 5.009300231933594, 4.562600135803223, 3.680000066757202, 2.9089999198913574, 2.9077999591827393, 2.7506000995635986, 2.116499900817871, 1.9521000385284424, 1.9519000053405762, 1.9515000581741333, 1.9515000581741333, 1.9515000581741333, 1.9515000581741333, 1.9515000581741333, 1.9514000415802002, 1.9514000415802002, 1.9514000415802002, 1.9514000415802002, 1.9514000415802002, 1.9514000415802002, 1.9514000415802002, 1.9514000415802002, 1.9514000415802002, 1.9514000415802002, -0.37439998984336853, -0.708899974822998, 5.414100170135498, 5.414100170135498, 5.413700103759766, 5.412899971008301, 5.412600040435791, 5.412099838256836, 5.412099838256836, 5.411900043487549, 5.411300182342529, 5.40910005569458, 5.40880012512207, 5.408699989318848, 5.408199787139893, 5.407899856567383, 5.406099796295166, 5.404200077056885, 5.400400161743164, 5.397799968719482, 5.39709997177124, 5.392399787902832, 5.390699863433838, 5.383900165557861, 5.358099937438965, 5.310200214385986, 5.062699794769287, 2.2098000049591064, 2.2098000049591064, 2.2098000049591064, 2.2098000049591064, 2.2098000049591064, 2.2098000049591064, 2.2098000049591064, 2.2098000049591064, 5.517499923706055, 5.517199993133545, 5.516200065612793, 5.5152997970581055, 5.514599800109863, 5.513899803161621, 5.512199878692627, 5.511899948120117, 5.511499881744385, 5.509099960327148, 5.508699893951416, 5.503600120544434, 5.503499984741211, 5.503399848937988, 5.501500129699707, 5.498799800872803, 5.4944000244140625, 5.4934000968933105, 5.492000102996826, 5.486199855804443, 5.479800224304199, 5.47189998626709, 5.4375, 5.434100151062012, 5.383999824523926, 4.940199851989746, 2.2421998977661133, 2.2421000003814697, 2.2421000003814697, 2.2421000003814697, 2.2421000003814697, 2.2421000003814697, 2.242000102996826, 6.373499870300293, 6.373300075531006, 6.369900226593018, 6.366600036621094, 6.365699768066406, 6.354599952697754, 6.354499816894531, 6.341400146484375, 6.336599826812744, 6.277299880981445, 6.17609977722168, 6.084099769592285, 5.99370002746582, 5.8572001457214355, 2.6350998878479004, 2.634999990463257, 2.634999990463257, 2.634999990463257, 2.634999990463257, 2.634999990463257, 2.634999990463257, 2.634999990463257, 2.634999990463257, 2.634999990463257, 2.634999990463257, 2.634999990463257, 2.634999990463257, 2.634999990463257, 2.634999990463257, 2.634999990463257, 2.634999990463257, 2.634999990463257, 2.634999990463257, 2.634999990463257, 2.634999990463257, 2.634999990463257, 2.634999990463257, 2.634999990463257, 2.634999990463257, 2.6349000930786133], \"logprob\": [30.0, 29.0, 28.0, 27.0, 26.0, 25.0, 24.0, 23.0, 22.0, 21.0, 20.0, 19.0, 18.0, 17.0, 16.0, 15.0, 14.0, 13.0, 12.0, 11.0, 10.0, 9.0, 8.0, 7.0, 6.0, 5.0, 4.0, 3.0, 2.0, 1.0, -3.9530999660491943, -3.937999963760376, -4.537799835205078, -4.867300033569336, -4.99459981918335, -5.069300174713135, -5.150100231170654, -5.17140007019043, -5.230100154876709, -5.240300178527832, -5.252600193023682, -5.292300224304199, -5.3582000732421875, -5.43209981918335, -5.5106000900268555, -5.527599811553955, -5.605999946594238, -5.65369987487793, -5.695000171661377, -5.7270002365112305, -5.755499839782715, -5.901700019836426, -5.958799839019775, -5.996300220489502, -6.053999900817871, -6.0782999992370605, -6.10129976272583, -6.123300075531006, -6.150100231170654, -6.148900032043457, -4.347400188446045, -5.460299968719482, -4.934199810028076, -3.968899965286255, -5.559599876403809, -4.0742998123168945, -5.393799781799316, -5.164700031280518, -3.4639999866485596, -5.307600021362305, -4.4807000160217285, -4.190999984741211, -3.486599922180176, -3.938699960708618, -4.255099773406982, -4.408699989318848, -4.733500003814697, -4.5081000328063965, -5.103799819946289, -4.198999881744385, -4.868199825286865, -4.565299987792969, -4.3445000648498535, -4.575300216674805, -4.22790002822876, -4.666999816894531, -4.204699993133545, -4.786600112915039, -4.9878997802734375, -4.830699920654297, -4.89109992980957, -4.565899848937988, -4.956399917602539, -4.054500102996826, -4.346199989318848, -4.6585001945495605, -4.816100120544434, -4.987299919128418, -5.13670015335083, -5.155799865722656, -5.1697001457214355, -5.171899795532227, -5.310800075531006, -5.315999984741211, -5.389100074768066, -5.406700134277344, -5.4303998947143555, -5.532100200653076, -5.5346999168396, -5.541200160980225, -5.5528998374938965, -5.673699855804443, -5.711699962615967, -5.759900093078613, -5.77869987487793, -5.859000205993652, -5.874199867248535, -5.876699924468994, -5.884900093078613, -5.908400058746338, -5.9217000007629395, -5.943900108337402, -5.975500106811523, -4.466300010681152, -4.580399990081787, -5.204999923706055, -4.270599842071533, -4.564300060272217, -3.2743000984191895, -4.717899799346924, -5.099100112915039, -5.253600120544434, -5.176000118255615, -5.019999980926514, -5.1367998123168945, -4.482600212097168, -4.462200164794922, -4.86929988861084, -5.288099765777588, -4.38700008392334, -4.566400051116943, -5.047100067138672, -4.870699882507324, -4.186399936676025, -4.067999839782715, -4.394100189208984, -4.644899845123291, -4.557300090789795, -4.696599960327148, -4.921199798583984, -4.572700023651123, -4.961400032043457, -4.831200122833252, -4.379199981689453, -4.711699962615967, -4.868000030517578, -4.967599868774414, -3.6591999530792236, -4.166100025177002, -4.397299766540527, -4.435500144958496, -4.4822001457214355, -4.654200077056885, -4.786499977111816, -4.790299892425537, -4.908400058746338, -4.916500091552734, -5.003600120544434, -5.0346999168396, -5.083600044250488, -5.1331000328063965, -5.144700050354004, -5.148399829864502, -5.167900085449219, -5.191500186920166, -5.222099781036377, -5.307700157165527, -5.310699939727783, -5.316999912261963, -5.321199893951416, -5.323400020599365, -5.383600234985352, -5.386899948120117, -5.467599868774414, -5.504700183868408, -5.539899826049805, -5.567699909210205, -5.13670015335083, -5.041800022125244, -4.220799922943115, -4.592599868774414, -3.176100015640259, -3.8540000915527344, -4.315299987792969, -5.048500061035156, -4.277900218963623, -4.526700019836426, -5.1331000328063965, -4.6392998695373535, -4.621399879455566, -3.6900999546051025, -4.612800121307373, -4.4120001792907715, -4.982699871063232, -5.081299781799316, -4.958199977874756, -4.888800144195557, -5.081200122833252, -2.8831000328063965, -2.973299980163574, -3.5717999935150146, -3.795599937438965, -4.122499942779541, -4.1528000831604, -4.5167999267578125, -4.617000102996826, -4.720900058746338, -4.884799957275391, -4.895999908447266, -4.917200088500977, -4.978899955749512, -5.0081000328063965, -5.078800201416016, -5.100200176239014, -5.607800006866455, -5.736499786376953, -5.833099842071533, -5.858099937438965, -5.889400005340576, -6.04040002822876, -6.046899795532227, -6.062099933624268, -6.165900230407715, -6.3018999099731445, -6.393700122833252, -6.40749979019165, -6.431300163269043, -6.461900234222412, -4.473999977111816, -4.755199909210205, -3.835700035095215, -4.184700012207031, -4.758600234985352, -2.2578001022338867, -4.122200012207031, -3.8531999588012695, -5.823800086975098, -3.647700071334839, -3.5576999187469482, -4.611800193786621, -4.767099857330322, -3.3304998874664307, -3.6298000812530518, -4.518400192260742, -4.334499835968018, -3.6352999210357666, -4.239200115203857, -4.037300109863281, -4.483099937438965, -4.2230000495910645, -4.549600124359131, -4.597700119018555, -4.652599811553955, -4.606599807739258, -3.963900089263916, -4.07919979095459, -3.8169000148773193, -4.138299942016602, -4.470399856567383, -4.69789981842041, -4.714900016784668, -4.857999801635742, -4.892399787902832, -4.898200035095215, -4.935500144958496, -4.9496002197265625, -5.014999866485596, -5.032800197601318, -5.105100154876709, -4.573200225830078, -5.233399868011475, -5.266600131988525, -5.322400093078613, -5.3292999267578125, -5.355599880218506, -5.41480016708374, -5.422999858856201, -5.449900150299072, -5.453400135040283, -5.508399963378906, -5.556000232696533, -5.564499855041504, -5.567699909210205, -5.581699848175049, -5.147900104522705, -4.991799831390381, -4.207799911499023, -4.387599945068359, -4.607399940490723, -4.502799987792969, -3.8434998989105225, -4.595799922943115, -3.7595999240875244, -4.1529998779296875, -4.753200054168701, -4.358399868011475, -4.915900230407715, -4.366799831390381, -4.255199909210205, -4.64870023727417, -4.664899826049805, -4.431600093841553, -4.680300235748291, -4.803400039672852, -4.617499828338623, -4.696499824523926, -4.881199836730957, -0.5993000268936157, -3.762500047683716, -4.270400047302246, -4.48829984664917, -4.489799976348877, -4.610899925231934, -4.615099906921387, -4.683000087738037, -4.774099826812744, -4.779099941253662, -4.874599933624268, -4.892600059509277, -4.926300048828125, -4.938799858093262, -4.9847002029418945, -5.000400066375732, -5.002099990844727, -5.068999767303467, -5.184000015258789, -5.189700126647949, -5.2230000495910645, -5.225299835205078, -5.232800006866455, -5.258299827575684, -5.2677998542785645, -5.3231000900268555, -5.392099857330322, -5.412799835205078, -5.426400184631348, -5.4629998207092285, -3.600100040435791, -4.23960018157959, -4.323200225830078, -4.4070000648498535, -4.432499885559082, -4.513800144195557, -4.604499816894531, -4.622700214385986, -4.672699928283691, -4.686200141906738, -4.689599990844727, -4.739799976348877, -4.761499881744385, -4.774499893188477, -4.82480001449585, -4.84630012512207, -4.876800060272217, -4.886099815368652, -4.9156999588012695, -4.917399883270264, -4.963399887084961, -5.046000003814697, -5.047699928283691, -5.060400009155273, -5.088799953460693, -5.118199825286865, -5.122399806976318, -5.138599872589111, -5.17710018157959, -5.201200008392334, -3.5480000972747803, -4.371799945831299, -4.588200092315674, -4.366600036621094, -3.643699884414673, -4.535099983215332, -4.810699939727783, -4.504199981689453, -4.432000160217285, -4.052199840545654, -3.8626999855041504, -4.2256999015808105, -4.782299995422363, -4.7368998527526855, -2.822700023651123, -2.9077000617980957, -3.085900068283081, -3.6373000144958496, -3.737600088119507, -3.884999990463257, -4.020699977874756, -4.0233001708984375, -4.064300060272217, -4.065700054168701, -4.112599849700928, -4.138999938964844, -4.280300140380859, -4.3628997802734375, -4.439599990844727, -4.640600204467773, -4.719600200653076, -4.813899993896484, -4.8180999755859375, -4.824999809265137, -4.892099857330322, -4.993299961090088, -5.027500152587891, -5.045100212097168, -5.050000190734863, -5.095099925994873, -5.115099906921387, -5.190199851989746, -5.386499881744385, -5.390900135040283, -3.8043999671936035, -5.056300163269043, -3.573899984359741, -4.187399864196777, -4.441999912261963, -3.761199951171875, -4.3471999168396, -4.824100017547607, -4.614500045776367, -4.561200141906738, -4.6697998046875, -4.822500228881836, -2.786400079727173, -3.0343000888824463, -3.2279999256134033, -3.296999931335449, -3.330699920654297, -3.3313000202178955, -3.5940001010894775, -3.7546000480651855, -3.8677000999450684, -3.901900053024292, -4.031000137329102, -4.204400062561035, -4.220300197601318, -4.238699913024902, -4.280200004577637, -4.513800144195557, -4.5304999351501465, -4.537700176239014, -4.6641998291015625, -4.680799961090088, -4.687600135803223, -4.69320011138916, -4.770899772644043, -4.812600135803223, -4.874899864196777, -4.909999847412109, -4.98390007019043, -4.98829984664917, -4.990699768066406, -5.061600208282471, -3.3824000358581543, -4.4679999351501465, -4.337200164794922, -4.2505998611450195, -4.133600234985352, -4.698599815368652, -4.113699913024902, -4.66349983215332, -4.639100074768066, -2.73009991645813, -3.3071999549865723, -3.503200054168701, -3.51419997215271, -3.5513999462127686, -3.610599994659424, -3.6903998851776123, -3.8424999713897705, -3.860100030899048, -3.924099922180176, -4.063799858093262, -4.096700191497803, -4.174600124359131, -4.262199878692627, -4.270599842071533, -4.333399772644043, -4.4131999015808105, -4.462200164794922, -4.6631999015808105, -4.688300132751465, -4.707600116729736, -4.736999988555908, -4.920199871063232, -4.980199813842773, -5.0065999031066895, -5.238900184631348, -5.468299865722656, -5.486400127410889, -5.689300060272217, -2.9837000370025635, -4.987500190734863, -3.8445000648498535, -3.7107999324798584, -3.070199966430664, -2.9082999229431152, -4.484899997711182, -3.7513999938964844, -4.060800075531006, -3.9860999584198, -4.641499996185303, -1.9157999753952026, -2.7074999809265137, -3.0845000743865967, -3.1926000118255615, -3.221100091934204, -3.296299934387207, -3.3594000339508057, -3.52810001373291, -3.702199935913086, -3.7544000148773193, -3.8742001056671143, -3.904900074005127, -3.96560001373291, -4.010499954223633, -4.21019983291626, -4.313300132751465, -4.441199779510498, -4.515999794006348, -4.796199798583984, -4.928899765014648, -4.938600063323975, -4.974800109863281, -5.171800136566162, -5.313799858093262, -5.368500232696533, -5.669600009918213, -5.81220006942749, -3.1491000652313232, -6.098599910736084, -6.1066999435424805, -4.350500106811523, -4.4004998207092285, -4.767899990081787, -4.131400108337402, -4.808800220489502, -4.764500141143799, -4.668000221252441, -4.731299877166748, -2.719599962234497, -3.1096999645233154, -3.2358999252319336, -3.457900047302246, -3.5873000621795654, -3.8427000045776367, -3.996299982070923, -4.014699935913086, -4.068999767303467, -4.162199974060059, -4.191299915313721, -4.3140997886657715, -4.389699935913086, -4.535200119018555, -4.570899963378906, -4.589399814605713, -4.591899871826172, -4.593299865722656, -4.649400234222412, -4.778900146484375, -4.859600067138672, -4.864099979400635, -4.873199939727783, -4.877099990844727, -4.880499839782715, -4.8902997970581055, -4.9085001945495605, -5.047100067138672, -5.098499774932861, -5.10830020904541, -2.682499885559082, -3.203399896621704, -3.2834999561309814, -4.384699821472168, -3.072000026702881, -3.2258999347686768, -3.2685999870300293, -3.445199966430664, -3.483099937438965, -3.574199914932251, -3.5804998874664307, -3.652600049972534, -3.785599946975708, -3.937700033187866, -3.9509999752044678, -3.9672999382019043, -3.9818999767303467, -4.169000148773193, -4.171199798583984, -4.241300106048584, -4.289299964904785, -4.344200134277344, -4.425300121307373, -4.465099811553955, -4.520899772644043, -4.5767998695373535, -4.609899997711182, -4.615099906921387, -4.676599979400635, -4.67710018157959, -4.724999904632568, -4.847300052642822, -4.8821001052856445, -4.902299880981445, -3.4719998836517334, -4.572500228881836, -4.140100002288818, -4.264999866485596, -4.397600173950195, -2.6767001152038574, -2.9827001094818115, -3.0076000690460205, -3.1556999683380127, -3.2165000438690186, -3.49399995803833, -3.532900094985962, -3.578700065612793, -3.705199956893921, -3.8020999431610107, -3.8956000804901123, -3.926500082015991, -3.98799991607666, -4.11359977722168, -4.166200160980225, -4.2393999099731445, -4.260300159454346, -4.321199893951416, -4.32919979095459, -4.332799911499023, -4.343800067901611, -4.507999897003174, -4.514500141143799, -4.561800003051758, -4.719399929046631, -4.789899826049805, -4.836299896240234, -4.838600158691406, -4.961599826812744, -5.041299819946289, -3.2411999702453613, -4.78980016708374, -1.9155999422073364, -3.0074000358581543, -3.126800060272217, -3.179500102996826, -3.379300117492676, -3.504499912261963, -3.5952999591827393, -3.5978000164031982, -3.897200107574463, -4.049900054931641, -4.13640022277832, -4.237299919128418, -4.531499862670898, -4.611999988555908, -4.63730001449585, -4.880199909210205, -5.146599769592285, -5.193900108337402, -5.211299896240234, -5.289700031280518, -5.522500038146973, -5.743100166320801, -3.5583999156951904, -4.577099800109863, -4.055500030517578, -5.416200160980225, -3.2458999156951904, -4.399899959564209, -9.434100151062012, -4.160299777984619, -4.445700168609619, -4.326499938964844, -4.82889986038208, -5.185400009155273, -2.8039000034332275, -2.8617000579833984, -2.9779999256134033, -3.4442999362945557, -3.486799955368042, -3.6572999954223633, -4.000699996948242, -4.132800102233887, -4.451000213623047, -4.5233001708984375, -4.6722002029418945, -4.740699768066406, -4.75600004196167, -4.779799938201904, -5.090000152587891, -5.110000133514404, -5.433300018310547, -5.479400157928467, -5.535699844360352, -5.538000106811523, -5.542600154876709, -5.5991997718811035, -5.684100151062012, -5.9593000411987305, -5.95989990234375, -6.274499893188477, -6.390900135040283, -6.455699920654297, -6.4984002113342285, -6.9243998527526855, -4.503799915313721, -3.9588000774383545, -4.537300109863281, -3.926500082015991, -4.36329984664917, -4.287499904632568, -4.286399841308594, -5.115099906921387, -5.207900047302246, -5.052299976348877, -5.275000095367432, -5.394700050354004, -5.218999862670898, -5.3968000411987305, -1.198699951171875, -1.8625999689102173, -2.9514999389648438, -3.1594998836517334, -5.356100082397461, -5.486599922180176, -7.344299793243408, -4.242300033569336, -2.8097000122070312, -4.002299785614014, -4.40910005569458, -4.407800197601318, -5.063799858093262, -11.779399871826172, -11.779600143432617, -11.779999732971191, -11.779999732971191, -11.779999732971191, -11.779999732971191, -11.780099868774414, -11.780099868774414, -11.780099868774414, -11.780099868774414, -11.780099868774414, -11.780099868774414, -11.780099868774414, -11.780099868774414, -11.780099868774414, -11.780200004577637, -11.780099868774414, -6.9608001708984375, -7.1255998611450195, -2.9344000816345215, -2.9451000690460205, -3.0320000648498535, -3.1826999187469482, -3.2232000827789307, -3.312000036239624, -3.313999891281128, -3.3376998901367188, -3.429800033569336, -3.6986000537872314, -3.7225000858306885, -3.737799882888794, -3.7857000827789307, -3.8118999004364014, -3.9693000316619873, -4.118500232696533, -4.352499961853027, -4.488900184631348, -4.520999908447266, -4.7221999168396, -4.7870001792907715, -5.009699821472168, -5.578400135040283, -6.186100006103516, -7.504199981689453, -11.521699905395508, -11.521699905395508, -11.521699905395508, -11.521699905395508, -11.521699905395508, -11.521699905395508, -11.521699905395508, -11.521699905395508, -2.6357998847961426, -2.725600004196167, -2.9421000480651855, -3.1145999431610107, -3.2244999408721924, -3.3329999446868896, -3.53629994392395, -3.5717999935150146, -3.6175999641418457, -3.8350000381469727, -3.8714001178741455, -4.21589994430542, -4.2230000495910645, -4.226799964904785, -4.3302998542785645, -4.457600116729736, -4.639800071716309, -4.6778998374938965, -4.729400157928467, -4.912700176239014, -5.083099842071533, -5.262499809265137, -5.8094000816345215, -5.851500034332275, -6.331699848175049, -3.8424999713897705, -11.4891996383667, -11.489399909973145, -11.489399909973145, -11.489399909973145, -11.489399909973145, -11.489399909973145, -11.489399909973145, -2.538800001144409, -2.5659000873565674, -2.922300100326538, -3.1714000701904297, -3.229599952697754, -3.771699905395508, -3.774899959564209, -4.176499843597412, -4.292200088500977, -5.164700031280518, -5.895299911499023, -6.313700199127197, -6.6269001960754395, -7.001800060272217, -11.096400260925293, -11.096500396728516, -11.096500396728516, -11.096500396728516, -11.096500396728516, -11.096500396728516, -11.096500396728516, -11.096500396728516, -11.096500396728516, -11.096500396728516, -11.096500396728516, -11.096500396728516, -11.096500396728516, -11.096500396728516, -11.096599578857422, -11.096599578857422, -11.096599578857422, -11.096500396728516, -11.096500396728516, -11.096500396728516, -11.096500396728516, -11.096500396728516, -11.096500396728516, -11.096500396728516, -11.096500396728516, -11.096500396728516]}, \"token.table\": {\"Topic\": [2, 16, 3, 3, 7, 8, 5, 1, 7, 18, 2, 4, 8, 15, 9, 5, 10, 1, 2, 4, 5, 8, 10, 7, 13, 19, 2, 10, 8, 4, 16, 1, 5, 6, 2, 3, 5, 16, 16, 16, 1, 2, 1, 2, 12, 1, 2, 7, 8, 3, 15, 3, 17, 14, 4, 8, 10, 6, 18, 1, 6, 1, 4, 11, 1, 4, 6, 7, 20, 13, 16, 1, 4, 13, 19, 3, 1, 2, 3, 14, 13, 20, 1, 14, 1, 4, 8, 11, 17, 2, 3, 8, 7, 9, 2, 15, 18, 13, 18, 3, 7, 6, 10, 14, 1, 4, 5, 8, 13, 11, 4, 9, 4, 14, 1, 2, 3, 4, 8, 19, 10, 15, 9, 4, 1, 3, 7, 16, 2, 3, 7, 1, 3, 5, 11, 2, 1, 2, 8, 5, 9, 3, 17, 3, 3, 3, 13, 2, 3, 6, 7, 10, 19, 1, 5, 16, 19, 4, 10, 6, 9, 1, 3, 8, 11, 12, 8, 18, 12, 11, 10, 4, 2, 3, 3, 9, 12, 4, 17, 1, 2, 3, 7, 4, 5, 5, 7, 10, 8, 5, 7, 2, 9, 16, 12, 9, 15, 1, 3, 7, 3, 1, 2, 9, 16, 10, 20, 4, 3, 8, 1, 15, 3, 13, 16, 10, 18, 14, 5, 8, 13, 5, 1, 4, 9, 6, 10, 12, 14, 1, 3, 5, 9, 3, 13, 11, 13, 3, 8, 7, 10, 11, 15, 3, 8, 16, 4, 5, 2, 10, 12, 15, 11, 3, 2, 1, 2, 11, 16, 14, 11, 4, 11, 1, 9, 11, 8, 12, 4, 9, 14, 18, 13, 18, 3, 7, 8, 11, 11, 7, 3, 9, 3, 15, 9, 14, 3, 5, 7, 19, 18, 4, 6, 10, 7, 14, 18, 11, 15, 1, 7, 4, 15, 20, 8, 3, 16, 6, 1, 2, 3, 7, 1, 3, 19, 12, 8, 2, 3, 8, 13, 19, 5, 2, 3, 6, 9, 12, 1, 3, 10, 16, 16, 10, 1, 2, 3, 8, 3, 13, 8, 16, 11, 10, 12, 8, 1, 2, 4, 8, 7, 1, 2, 5, 8, 7, 15, 19, 1, 15, 7, 2, 3, 4, 8, 9, 1, 3, 8, 2, 12, 1, 9, 14, 5, 15, 8, 19, 1, 2, 16, 1, 4, 18, 6, 14, 1, 2, 3, 15, 1, 12, 2, 1, 2, 3, 7, 16, 16, 4, 1, 2, 18, 3, 13, 15, 2, 1, 18, 7, 8, 11, 10, 7, 1, 4, 11, 9, 1, 1, 3, 4, 1, 5, 7, 11, 14, 20, 16, 13, 4, 5, 3, 13, 2, 3, 3, 8, 11, 6, 1, 8, 11, 18, 4, 8, 2, 12, 2, 4, 5, 8, 9, 10, 5, 5, 20, 4, 2, 4, 12, 17, 18, 18, 13, 16, 20, 4, 11, 9, 18, 2, 4, 9, 19, 3, 2, 3, 12, 3, 11, 17, 10, 3, 10, 1, 2, 4, 2, 16, 13, 12, 3, 8, 5, 1, 15, 3, 1, 2, 5, 9, 10, 1, 2, 3, 16, 1, 3, 1, 2, 9, 1, 4, 6, 10, 2, 4, 5, 7, 1, 7, 1, 3, 4, 7, 1, 7, 9, 13, 2, 1, 4, 1, 1, 5, 9, 15, 4, 11, 4, 1, 2, 3, 7, 6, 1, 3, 10, 10, 15, 1, 2, 3, 12, 16, 13, 1, 2, 1, 1, 2, 3, 7, 7, 9, 14, 11, 4, 11, 2, 4, 14, 7, 8, 14, 6, 5, 6, 2, 15, 12, 19, 8, 11, 11, 19, 10, 15, 1, 9, 9, 15, 3, 8, 14, 13, 19, 1, 2, 10, 3, 2, 3, 3, 1, 2, 4, 7, 16, 4, 2, 4, 5, 9, 18, 4, 6, 13, 2, 7, 5, 9, 10, 16, 1, 2, 4, 5, 8, 8, 3, 12, 12, 12, 5, 7, 6, 2, 4, 9, 2, 3, 16, 5, 2, 3, 1, 4, 9, 5, 15, 15, 15, 1, 2, 5, 1, 4, 6, 1, 2, 17, 8, 13, 12, 14, 10, 2, 2, 5, 6, 18, 13, 9, 9, 10, 11, 1, 2, 3, 7, 12, 11, 19, 2, 3, 4, 17, 6, 4, 5, 7, 12, 15, 10, 1, 2, 10, 16, 19, 19, 1, 2, 8, 7, 19, 8, 10, 14, 2, 2, 4, 2, 17, 5, 7, 20, 6, 5, 12, 5, 1, 14, 9, 11, 16, 7, 15, 20, 1, 2, 4, 19, 16, 4, 7, 8, 10, 13, 8, 4, 5, 15, 7, 18, 3, 7, 7, 2, 5, 7, 8, 10, 12, 7, 17, 7, 1, 7, 2, 12, 4, 11, 12, 13, 3, 11, 1, 2, 1, 2, 8, 3, 1, 14, 1, 2, 3, 13, 5, 20, 9, 17, 13, 4, 5, 10, 20, 3, 3, 1, 13, 5, 9, 1, 4, 16, 5, 12, 10, 5, 2, 1, 5, 8, 16, 3, 12, 14, 6, 1, 3, 7, 12, 14, 16, 15, 11, 10, 2, 3, 1, 4, 8, 11, 5, 16, 1, 7, 7, 9, 15, 6, 1, 3, 13, 1, 15, 12, 12, 8, 11, 17, 5, 17, 7, 1, 2, 1, 2, 3, 19, 20, 5, 9, 1, 2, 4, 2, 3, 16, 9, 8, 8, 4, 1, 4, 8, 3, 2, 15, 19, 13, 20, 14, 5, 5, 15, 3, 16, 2, 5, 12, 10, 12, 3, 16, 6, 7, 19, 2, 4, 5, 8, 16, 15, 13, 14, 5, 8, 11, 2, 4, 8, 11, 17, 20, 2, 3, 7, 9, 18, 1, 19, 3, 12, 6, 18, 4, 10, 14, 2, 3, 10, 12, 19, 13, 4, 7, 10, 5, 1, 3, 2, 7, 4, 16, 9, 1, 14, 12, 17, 15, 1, 3, 16, 14, 8, 4, 1, 2, 3, 1, 3, 6, 2, 11, 1, 2, 7, 8, 14, 14, 1, 3, 5, 16, 7, 10, 1, 16, 7, 11, 15, 8, 3, 9, 12, 11, 1, 2, 3, 18, 2, 1, 3, 4, 8, 16, 16, 5, 10, 9, 9, 6, 13, 18, 19, 4, 5, 7, 8, 11, 4, 7, 10, 5, 7, 11, 2, 11, 14, 15, 8, 10, 11, 2, 3, 3, 16, 19, 16, 7, 13, 18, 1, 2, 4, 3, 14, 6, 9, 1, 2, 3, 7, 8, 7, 6, 1, 2, 2, 1, 5, 9, 1, 8, 5, 3, 16, 1, 2, 4, 5, 8, 16, 13, 1, 2, 3, 1, 2, 3, 7, 1, 2, 4, 1, 5, 6, 1], \"Freq\": [0.9987806677818298, 0.9744965434074402, 0.9977789521217346, 0.9136921763420105, 0.01816207729279995, 0.06705997884273529, 0.9977902770042419, 0.9944553971290588, 0.004610057920217514, 0.9952737092971802, 0.20388567447662354, 0.7947543263435364, 0.9979845285415649, 0.9780551791191101, 0.9973937273025513, 0.9979908466339111, 0.9958929419517517, 0.17179742455482483, 0.5520306825637817, 0.14146991074085236, 0.1055326983332634, 0.009115781635046005, 0.019809294492006302, 0.9972691535949707, 0.9884421229362488, 0.9809389114379883, 0.9991753697395325, 0.995570719242096, 0.9984187483787537, 0.9987740516662598, 0.9857170581817627, 0.004311987664550543, 0.9939131140708923, 0.9957526922225952, 0.0008122284198179841, 0.03979919105768204, 0.9584295153617859, 0.9974855780601501, 0.9861640930175781, 0.9614467024803162, 0.9680661559104919, 0.03178508207201958, 0.37745049595832825, 0.6218824982643127, 0.9923189282417297, 0.0193315502256155, 0.9787868857383728, 0.9972599744796753, 0.9978002905845642, 0.9991164803504944, 0.9719336032867432, 0.9053385853767395, 0.09295319020748138, 0.9904828667640686, 0.200477734208107, 0.46356523036956787, 0.33518359065055847, 0.9977482557296753, 0.9924461245536804, 0.9985277056694031, 0.9999589323997498, 0.9995843768119812, 0.9960558414459229, 0.9902524352073669, 0.9995643496513367, 0.9906766414642334, 0.9985777735710144, 0.9973800182342529, 0.9432839155197144, 0.9971749186515808, 0.8690006136894226, 0.999779224395752, 0.00013079267228022218, 0.9880037307739258, 0.9800060987472534, 0.9981771111488342, 0.24919679760932922, 0.027688533067703247, 0.7226706743240356, 0.9910122156143188, 0.9948059916496277, 0.9912800788879395, 0.9991114735603333, 0.9986517429351807, 0.3507593870162964, 0.084627665579319, 0.266131728887558, 0.0974331647157669, 0.20043393969535828, 0.997664749622345, 0.03440237417817116, 0.9632664918899536, 0.9979124069213867, 0.9971014857292175, 0.9989337921142578, 0.9553836584091187, 0.9875454306602478, 0.9980967044830322, 0.9904294610023499, 0.14283813536167145, 0.8556146025657654, 0.996806800365448, 0.9824585914611816, 0.9947932362556458, 0.023091208189725876, 0.270302951335907, 0.6839072704315186, 0.012903910130262375, 0.009508144110441208, 0.9972638487815857, 0.992363452911377, 0.9991605281829834, 0.996067225933075, 0.9950584769248962, 0.3107406198978424, 0.4364679157733917, 0.00851810909807682, 0.2163599729537964, 0.02793939784169197, 0.9813881516456604, 0.984428882598877, 0.006392395123839378, 0.9995063543319702, 0.9993257522583008, 0.07214853167533875, 0.06252872198820114, 0.8609724640846252, 0.002404951024800539, 0.8541880249977112, 0.0003731708275154233, 0.14516346156597137, 0.24301818013191223, 0.27413636445999146, 0.4823318123817444, 0.996366024017334, 0.9978218078613281, 0.340250700712204, 0.398874968290329, 0.2603607475757599, 0.9974624514579773, 0.9987297654151917, 0.999461829662323, 0.999082624912262, 0.9978218078613281, 0.9978048801422119, 0.998531699180603, 0.9952777028083801, 0.26039743423461914, 0.7387903928756714, 0.9983311295509338, 0.9968314170837402, 0.43565553426742554, 0.5569773316383362, 0.6040735244750977, 0.36141151189804077, 0.033559639006853104, 0.9927643537521362, 0.9938386678695679, 0.9980907440185547, 0.9991362690925598, 0.997927725315094, 0.9169831871986389, 0.08274489641189575, 0.9962665438652039, 0.21323248744010925, 0.7845346331596375, 0.9953518509864807, 0.9504412412643433, 0.9900847673416138, 0.9937422871589661, 0.9950405359268188, 0.9989593625068665, 0.9978333115577698, 0.997443437576294, 0.2293858826160431, 0.7689014673233032, 0.9909670352935791, 0.9902582168579102, 0.7841210961341858, 0.056953735649585724, 0.873496949672699, 0.06314435601234436, 0.005571560934185982, 0.06086369603872299, 0.9375349879264832, 0.6768273115158081, 0.32165154814720154, 0.9965922832489014, 0.9953131079673767, 0.996056079864502, 0.9966763257980347, 0.9981779456138611, 0.9936301112174988, 0.9206392168998718, 0.9894866943359375, 0.9693855047225952, 0.030265478417277336, 0.991728663444519, 0.0011722560739144683, 0.006838160566985607, 0.9986673593521118, 0.9990962147712708, 0.605357825756073, 0.3848801553249359, 0.008921063505113125, 0.9977658987045288, 0.8870041966438293, 0.9953588247299194, 0.4633274972438812, 0.5358400940895081, 0.18305465579032898, 0.8075940608978271, 0.9970927238464355, 0.9971373677253723, 0.969738245010376, 0.9954113960266113, 0.9917497038841248, 0.993691623210907, 0.9595282673835754, 0.0029194571543484926, 0.03600664064288139, 0.9966273307800293, 0.9859380125999451, 0.013632506132125854, 0.9922848343849182, 0.9958388805389404, 0.9835459589958191, 0.015516062267124653, 0.9868033528327942, 0.963870108127594, 0.002023237058892846, 0.03358573466539383, 0.9953346252441406, 0.9984661340713501, 0.9956165552139282, 0.16372700035572052, 0.8307629227638245, 0.9983702301979065, 0.9976228475570679, 0.7229151129722595, 0.18746234476566315, 0.04524953290820122, 0.04417216032743454, 0.7298843860626221, 0.1595698595046997, 0.10933490842580795, 0.0628914088010788, 0.9351679086685181, 0.17300540208816528, 0.3153163194656372, 0.1925382763147354, 0.3181067109107971, 0.9978554844856262, 0.9986146092414856, 0.998935341835022, 0.019078103825449944, 0.9801375865936279, 0.9963650703430176, 0.9392185807228088, 0.9960425496101379, 0.9741647243499756, 0.9966062307357788, 0.982411801815033, 0.9989066123962402, 0.9960132241249084, 0.997643768787384, 0.9982167482376099, 0.9901365637779236, 0.9978286623954773, 0.9966858625411987, 0.9927480816841125, 0.981377363204956, 0.9959784150123596, 0.9923287034034729, 0.4162465035915375, 0.014656567014753819, 0.5686748027801514, 0.9997254610061646, 0.999075710773468, 0.9975624680519104, 0.9985767602920532, 0.9966743588447571, 0.38865259289741516, 0.6098195314407349, 0.9981555342674255, 0.9960072040557861, 0.03647371754050255, 0.9629061222076416, 0.996649444103241, 0.9861142635345459, 0.995137631893158, 0.9985765218734741, 0.9978318214416504, 0.9921314716339111, 0.9984276294708252, 0.9978083968162537, 0.9938161969184875, 0.16719138622283936, 0.8279954791069031, 0.9980658292770386, 0.0011967216851189733, 0.9986464977264404, 0.9858297109603882, 0.9721969962120056, 0.9983675479888916, 0.3136070966720581, 0.6794820427894592, 0.9960224032402039, 0.8172909617424011, 0.005495232529938221, 0.17210069298744202, 0.004995665978640318, 0.9994279742240906, 0.9994078874588013, 0.9706226587295532, 0.9939836859703064, 0.99774169921875, 0.9524344205856323, 0.026652486994862556, 0.01959741674363613, 0.9863517880439758, 0.8286791443824768, 0.9961774945259094, 0.7619685530662537, 0.2373344600200653, 0.9965076446533203, 0.9954439401626587, 0.9947393536567688, 0.2305789738893509, 0.7685965895652771, 0.9950213432312012, 0.963666558265686, 0.9466050267219543, 0.9978805184364319, 0.1696319878101349, 0.3188152015209198, 0.5112196803092957, 0.9975333213806152, 0.9987027645111084, 0.998073160648346, 0.9978088736534119, 0.9674878716468811, 0.9982624053955078, 0.9979730844497681, 0.9979777336120605, 0.9995867609977722, 0.3014889657497406, 0.4970776438713074, 0.19846497476100922, 0.0026148217730224133, 0.9966625571250916, 0.7437185645103455, 0.17535704374313354, 0.0781160369515419, 0.002693656599149108, 0.9973656535148621, 0.9960804581642151, 0.9902574419975281, 0.5569597482681274, 0.43481945991516113, 0.9955804944038391, 0.8494518399238586, 0.0071046678349375725, 0.037743549793958664, 0.10523789376020432, 0.9935359954833984, 0.12001453340053558, 0.8796809911727905, 0.9974308609962463, 0.9983909130096436, 0.9934672117233276, 0.6495764255523682, 0.14209485054016113, 0.205530047416687, 0.29827162623405457, 0.6959671378135681, 0.9987133145332336, 0.9485707879066467, 0.9993725419044495, 0.9981041550636292, 0.9869218468666077, 0.8547542095184326, 0.14502368867397308, 0.9824061989784241, 0.9955666661262512, 0.9927034974098206, 0.5854347944259644, 0.40548956394195557, 0.008580492809414864, 0.9739631414413452, 0.9998612403869629, 0.9979758262634277, 0.9986535310745239, 0.917687177658081, 0.08209236711263657, 0.25842756032943726, 0.7006997466087341, 0.03990425541996956, 0.9445335865020752, 0.9989054799079895, 0.9922605752944946, 0.007234653923660517, 0.9900055527687073, 0.11064402014017105, 0.8601006269454956, 0.027139099314808846, 0.9993096590042114, 0.9988296627998352, 0.9924797415733337, 0.9990418553352356, 0.45855042338371277, 0.5390763282775879, 0.998599112033844, 0.9970393776893616, 0.9919126629829407, 0.007381348870694637, 0.9957506656646729, 0.9960467219352722, 0.9994075298309326, 0.18242761492729187, 0.015485573559999466, 0.8018505573272705, 0.031093528494238853, 0.8706188201904297, 0.02025790512561798, 0.07726270705461502, 0.9943726062774658, 0.9931088089942932, 0.9380074143409729, 0.9937378168106079, 0.9997764229774475, 0.9962837100028992, 0.39420628547668457, 0.602735698223114, 0.9968783259391785, 0.002357801189646125, 0.9755063652992249, 0.02316146343946457, 0.996229350566864, 0.9980918169021606, 0.9986475110054016, 0.9989615678787231, 0.9763222932815552, 0.9149843454360962, 0.9913704991340637, 0.9957122206687927, 0.9987017512321472, 0.9943476915359497, 0.1723673790693283, 0.10086683183908463, 0.3132404685020447, 0.16555780172348022, 0.0689469501376152, 0.17832575738430023, 0.9989020824432373, 0.9973584413528442, 0.8195300698280334, 0.9980988502502441, 0.2789595127105713, 0.6790257692337036, 0.03933380916714668, 0.002587750554084778, 0.9921666979789734, 0.7279306650161743, 0.9973250031471252, 0.8604427576065063, 0.9919264316558838, 0.9983062148094177, 0.9888721108436584, 0.9953339695930481, 0.9664228558540344, 0.0869186744093895, 0.9094661474227905, 0.0021199677139520645, 0.9962717294692993, 0.9983372092247009, 0.9949698448181152, 0.004220444709062576, 0.9844451546669006, 0.9968942999839783, 0.9819060564041138, 0.9994035959243774, 0.9983052015304565, 0.9987654089927673, 0.9806582927703857, 0.9023187160491943, 0.049144353717565536, 0.048317406326532364, 0.9975440502166748, 0.9513042569160461, 0.993874728679657, 0.9963651299476624, 0.9976488351821899, 0.9958934187889099, 0.9995183348655701, 0.9996084570884705, 0.9961557388305664, 0.9991022944450378, 0.9992751479148865, 0.04762386530637741, 0.9513949155807495, 0.8188682198524475, 0.18024002015590668, 0.06751734018325806, 0.16011254489421844, 0.7176128625869751, 0.054013870656490326, 0.1400844007730484, 0.8588780760765076, 0.9988099932670593, 0.9695133566856384, 0.02918964996933937, 0.28030452132225037, 0.7193498015403748, 0.00027487572515383363, 0.9966400861740112, 0.042569246143102646, 0.7378669381141663, 0.2189275473356247, 0.9972558617591858, 0.9861868023872375, 0.013196529820561409, 0.332599401473999, 0.6670330166816711, 0.9643858671188354, 0.032580602914094925, 0.3757137656211853, 0.5714231729507446, 0.05194756016135216, 0.9939625859260559, 0.9964856505393982, 0.7356135845184326, 0.26409202814102173, 0.9987189769744873, 0.9995326399803162, 0.8775557279586792, 0.1210421696305275, 0.9905772805213928, 0.9769949316978455, 0.0222628116607666, 0.999489963054657, 0.704417884349823, 0.2841069996356964, 0.006403798703104258, 0.004925998859107494, 0.996721625328064, 0.14977847039699554, 0.8496145009994507, 0.9959838390350342, 0.9967097043991089, 0.5499731302261353, 0.17108644545078278, 0.7209334969520569, 0.10770200192928314, 0.9947651028633118, 0.9840092658996582, 0.9980458617210388, 0.04784231632947922, 0.9519253969192505, 0.9993175864219666, 0.21878546476364136, 0.6095515489578247, 0.171254962682724, 0.00036282831570133567, 0.9970781803131104, 0.9934732913970947, 0.9971289038658142, 0.9916253685951233, 0.6583216190338135, 0.3405112028121948, 0.10924869775772095, 0.8903476595878601, 0.984467089176178, 0.9206844568252563, 0.07859501242637634, 0.9960945248603821, 0.9977332353591919, 0.9967737793922424, 0.9971314072608948, 0.9979531764984131, 0.995268702507019, 0.9870932698249817, 0.9074563980102539, 0.5076093077659607, 0.49047479033470154, 0.9986058473587036, 0.9936652779579163, 0.349577933549881, 0.6214718818664551, 0.5536599159240723, 0.44535398483276367, 0.9976404309272766, 0.9940483570098877, 0.996342658996582, 0.9970948100090027, 0.9845971465110779, 0.9963126182556152, 0.996679961681366, 0.9388453364372253, 0.06068478897213936, 0.9945173859596252, 0.9978970289230347, 0.9089397192001343, 0.09045697748661041, 0.9976209998130798, 0.2372826188802719, 0.04550625756382942, 0.662394642829895, 0.0545610710978508, 0.9729989171028137, 0.997602641582489, 0.394377738237381, 0.3659074902534485, 0.06988153606653214, 0.16952742636203766, 0.9783879518508911, 0.9998247623443604, 0.9983600974082947, 0.992047905921936, 0.9957942366600037, 0.0029578045941889286, 0.9864633679389954, 0.010981039144098759, 0.9982973337173462, 0.982005774974823, 0.03833984583616257, 0.48438286781311035, 0.22182339429855347, 0.24783970415592194, 0.007188721094280481, 0.9980435371398926, 0.4103342294692993, 0.5883468985557556, 0.9941468238830566, 0.9863582849502563, 0.9959847331047058, 0.9971834421157837, 0.9967562556266785, 0.1973668932914734, 0.23684027791023254, 0.5637292265892029, 0.9977276921272278, 0.824679434299469, 0.17104463279247284, 0.9978508353233337, 0.9629661440849304, 0.03611122816801071, 0.6981892585754395, 0.1344740390777588, 0.1667478084564209, 0.9970644116401672, 0.997342050075531, 0.9595860242843628, 0.9623773097991943, 0.007173442747443914, 0.9822492599487305, 0.009735386818647385, 0.40398719906806946, 0.5958312153816223, 0.9983064532279968, 0.07717299461364746, 0.922178328037262, 0.9512697458267212, 0.4383606016635895, 0.5582248568534851, 0.9889834523200989, 0.9952825307846069, 0.9989089369773865, 0.9986514449119568, 0.9024659395217896, 0.09096924960613251, 0.006376348901540041, 0.9790164232254028, 0.9908545613288879, 0.9985046982765198, 0.9985484480857849, 0.819351851940155, 0.17960430681705475, 0.36742889881134033, 0.009293473325669765, 0.6232014298439026, 0.9221543073654175, 0.07433488219976425, 0.9979398250579834, 0.9963117837905884, 0.31018856167793274, 0.6892364025115967, 0.956320583820343, 0.04220695048570633, 0.9986507296562195, 0.998014509677887, 0.9244109988212585, 0.07318916916847229, 0.9957971572875977, 0.9789509773254395, 0.9858034253120422, 0.999178409576416, 0.9992853403091431, 0.9926086664199829, 0.9384476542472839, 0.9850678443908691, 0.972775399684906, 0.374234139919281, 0.6254662871360779, 0.9941216111183167, 0.9987366199493408, 0.9716048836708069, 0.9960483908653259, 0.9971336126327515, 0.9898673295974731, 0.9969083070755005, 0.649315357208252, 0.3505348861217499, 0.9970476627349854, 0.962116539478302, 0.9990070462226868, 0.0005724969087168574, 0.9693601131439209, 0.9961511492729187, 0.9974726438522339, 0.9830231666564941, 0.9975685477256775, 0.998634934425354, 0.9903731346130371, 0.9986706376075745, 0.9979169964790344, 0.9946644306182861, 0.9974945783615112, 0.9353067874908447, 0.9819173812866211, 0.20963087677955627, 0.10507813096046448, 0.6848467588424683, 0.9939767718315125, 0.9907508492469788, 0.9960259199142456, 0.8046441078186035, 0.1934240758419037, 0.998316764831543, 0.9945748448371887, 0.9996212124824524, 0.16531653702259064, 0.6215901374816895, 0.21160516142845154, 0.9982320666313171, 0.9933286905288696, 0.00971193052828312, 0.9878420233726501, 0.9949384331703186, 0.5812280178070068, 0.1455678790807724, 0.1486983746290207, 0.010434973984956741, 0.11374121159315109, 0.9863765239715576, 0.9960383772850037, 0.0036799449007958174, 0.9965854287147522, 0.9991960525512695, 0.9965233206748962, 0.9996494650840759, 0.9951001405715942, 0.9941256046295166, 0.10524443536996841, 0.2580186128616333, 0.6314665675163269, 0.02196957916021347, 0.9764257073402405, 0.07579999417066574, 0.923322319984436, 0.0011396795744076371, 0.977085292339325, 0.021653911098837852, 0.9977366328239441, 0.9995784163475037, 0.9796611666679382, 0.03872748836874962, 0.5665362477302551, 0.394609659910202, 0.9869245886802673, 0.9985119104385376, 0.985905647277832, 0.5074902176856995, 0.48493507504463196, 0.9934676885604858, 0.9910299181938171, 0.1119033470749855, 0.8860543370246887, 0.7680338025093079, 0.999191403388977, 0.9978169798851013, 0.9993499517440796, 0.9949577450752258, 0.9981858730316162, 0.9984303712844849, 0.06912340968847275, 0.916415274143219, 0.013994310051202774, 0.9988038539886475, 0.9988215565681458, 0.9944701194763184, 0.9960083365440369, 0.9963914155960083, 0.2036583572626114, 0.6758967041969299, 0.11650325357913971, 0.004446689039468765, 0.9966059327125549, 0.9972770810127258, 0.9979895353317261, 0.996662974357605, 0.4638839662075043, 0.24640145897865295, 0.28948482871055603, 0.99544358253479, 0.8270961046218872, 0.1693267673254013, 0.9935529828071594, 0.9976993799209595, 0.9962092638015747, 0.9806939363479614, 0.018338888883590698, 0.30814653635025024, 0.5122758746147156, 0.17927880585193634, 0.9869553446769714, 0.633074939250946, 0.3633299767971039, 0.99981689453125, 0.9975000023841858, 0.9969013333320618, 0.9991216659545898, 0.9939032793045044, 0.9965371489524841, 0.6788756847381592, 0.3209989666938782, 0.9925506114959717, 0.7356756329536438, 0.2570432722568512, 0.9988471865653992, 0.9970375895500183, 0.9980924129486084, 0.9958828091621399, 0.9967756271362305, 0.9981880784034729, 0.995313823223114, 0.9985979199409485, 0.8529798984527588, 0.14679968357086182, 0.8727147579193115, 0.11222948133945465, 0.01468118280172348, 0.9777776598930359, 0.866604208946228, 0.9978402256965637, 0.9992123246192932, 0.012779517099261284, 0.15744364261627197, 0.8291350603103638, 0.30600422620773315, 0.6935710310935974, 0.9883253574371338, 0.994426429271698, 0.9974876046180725, 0.9979621767997742, 0.9952279925346375, 0.2759394347667694, 0.06066753342747688, 0.6624503135681152, 0.9971320033073425, 0.9972549080848694, 0.9922678470611572, 0.943252444267273, 0.9970879554748535, 0.6498969197273254, 0.9804165959358215, 0.9964993596076965, 0.9984878897666931, 0.9856074452400208, 0.15758390724658966, 0.8242850303649902, 0.9978094696998596, 0.9987286329269409, 0.9839115142822266, 0.9992169141769409, 0.9894236922264099, 0.9465268850326538, 0.050416380167007446, 0.9985572099685669, 0.9985522627830505, 0.9910342693328857, 0.17982983589172363, 0.81836998462677, 0.6427004933357239, 0.35673871636390686, 0.8269233107566833, 0.9988022446632385, 0.992496132850647, 0.9945405125617981, 0.9970363974571228, 0.9969744086265564, 0.997904360294342, 0.6128657460212708, 0.06737177073955536, 0.1640828549861908, 0.07606489956378937, 0.07932482659816742, 0.9752581119537354, 0.01810923032462597, 0.6329998970031738, 0.3391364812850952, 0.009054615162312984, 0.9818668961524963, 0.9995208382606506, 0.9761437177658081, 0.17305079102516174, 0.824918806552887, 0.9988354444503784, 0.9748451113700867, 0.9934952855110168, 0.9921039342880249, 0.9863824844360352, 0.20046858489513397, 0.192357137799263, 0.6066202521324158, 0.9956972002983093, 0.976280927658081, 0.9970963597297668, 0.6058281660079956, 0.11299356818199158, 0.28100016713142395, 0.9964479207992554, 0.9607216119766235, 0.038930635899305344, 0.9994776248931885, 0.995449423789978, 0.9986079931259155, 0.989267110824585, 0.9975128173828125, 0.9992513060569763, 0.9785532355308533, 0.9065121412277222, 0.09251856058835983, 0.9887673258781433, 0.9307143092155457, 0.06883890181779861, 0.9507192373275757, 0.995755672454834, 0.9988277554512024, 0.9995664954185486, 0.8898869156837463, 0.10682131350040436, 0.0032700402662158012, 0.9822849035263062, 0.017628375440835953, 0.9983413815498352, 0.9975268840789795, 0.9945825934410095, 0.925600528717041, 0.0403926782310009, 0.016375409439206123, 0.017467103898525238, 0.9818645715713501, 0.9933478832244873, 0.597905158996582, 0.21945582330226898, 0.04702625051140785, 0.1354803889989853, 0.35267549753189087, 0.6444573998451233, 0.8919432163238525, 0.10603520274162292, 0.6031109690666199, 0.39344578981399536, 0.9759416580200195, 0.9939815402030945, 0.1734323799610138, 0.7673068642616272, 0.05518302693963051, 0.991574227809906, 0.006637530867010355, 0.7777979373931885, 0.21481463313102722, 0.9959437251091003, 0.998630702495575, 0.6695704460144043, 0.057462215423583984, 0.24859189987182617, 0.024168657138943672, 0.9956340789794922, 0.9980039596557617, 0.8988543748855591, 0.1001930683851242, 0.9964755177497864, 0.9980011582374573, 0.9980352520942688, 0.9897328615188599, 0.9964647889137268, 0.9925183057785034, 0.4456734359264374, 0.15936201810836792, 0.2000465989112854, 0.189580038189888, 0.005233286879956722, 0.5628082156181335, 0.003343414980918169, 0.43352949619293213, 0.9972105622291565, 0.0012175953015685081, 0.9917260408401489, 0.9989661574363708, 0.5404645204544067, 0.16077108681201935, 0.2907562255859375, 0.982865035533905, 0.016441980376839638, 0.9986023902893066, 0.9592112302780151, 0.0398932583630085, 0.8419738411903381, 0.1554413139820099, 0.992167592048645, 0.9952693581581116, 0.9962313771247864, 0.992719292640686, 0.9966500401496887, 0.819551944732666, 0.014892861247062683, 0.16515515744686127, 0.9983877539634705, 0.9898800849914551, 0.9970585703849792, 0.9952746033668518, 0.7518402934074402, 0.20242777466773987, 0.04250263050198555, 0.0007203835411928594, 0.0021611505653709173, 0.9972553253173828, 0.9979758262634277, 0.9239275455474854, 0.07586502283811569, 0.9979432225227356, 0.999119758605957, 0.9131466150283813, 0.08599379658699036, 0.9989963173866272, 0.9996413588523865, 0.9976250529289246, 0.9936339855194092, 0.004578958265483379, 0.44063708186149597, 0.031224414706230164, 0.41150981187820435, 0.11021751910448074, 0.00512639619410038, 0.0009320720564574003, 0.987464189529419, 0.4137783944606781, 0.06132546067237854, 0.5249729156494141, 0.9332138895988464, 0.04719650000333786, 0.014820157550275326, 0.004636049270629883, 0.8876004219055176, 0.003918602131307125, 0.10846395790576935, 0.8373315334320068, 0.1624518483877182, 0.9982021450996399, 0.9980130791664124], \"Term\": [\"accept\", \"accidental\", \"act\", \"action\", \"action\", \"action\", \"actual\", \"actually\", \"actually\", \"additional\", \"address\", \"address\", \"advance\", \"advanced\", \"advice\", \"air\", \"algorithm\", \"also\", \"also\", \"also\", \"also\", \"also\", \"also\", \"amount\", \"amp\", \"angle\", \"answer\", \"apple\", \"application\", \"appreciate\", \"appressian\", \"appropriate\", \"appropriate\", \"approve\", \"area\", \"area\", \"area\", \"armenian\", \"armenians\", \"arrival\", \"article\", \"article\", \"ask\", \"ask\", \"assist\", \"assume\", \"assume\", \"assumption\", \"atheism\", \"atheist\", \"atmosphere\", \"attack\", \"attack\", \"attention\", \"available\", \"available\", \"available\", \"average\", \"aware\", \"away\", \"ax\", \"back\", \"background\", \"backup\", \"bad\", \"band\", \"baseball\", \"basically\", \"batter\", \"battery\", \"bayonet\", \"be\", \"be\", \"beautiful\", \"bed\", \"belief\", \"believe\", \"believe\", \"believe\", \"belt\", \"benefit\", \"better\", \"big\", \"bike\", \"bit\", \"bit\", \"bit\", \"bit\", \"bit\", \"black\", \"blank\", \"blank\", \"block\", \"board\", \"book\", \"booster\", \"bounce\", \"box\", \"brave\", \"break\", \"break\", \"btw\", \"buffer\", \"bug\", \"build\", \"build\", \"build\", \"build\", \"build\", \"bus\", \"button\", \"buy\", \"ca\", \"cable\", \"call\", \"call\", \"call\", \"call\", \"call\", \"campaign\", \"capability\", \"capability\", \"car\", \"card\", \"carry\", \"carry\", \"carry\", \"carry\", \"case\", \"case\", \"case\", \"cause\", \"cause\", \"cause\", \"cd\", \"certain\", \"change\", \"change\", \"change\", \"character\", \"cheap\", \"child\", \"chip\", \"christian\", \"christianity\", \"church\", \"circuit\", \"claim\", \"claim\", \"clean\", \"clipper\", \"clock\", \"clock\", \"close\", \"close\", \"close\", \"club\", \"co\", \"code\", \"color\", \"com\", \"come\", \"come\", \"command\", \"compare\", \"compare\", \"compile\", \"compiler\", \"component\", \"compression\", \"compute\", \"computer\", \"concern\", \"conclusion\", \"condition\", \"condition\", \"conference\", \"configuration\", \"conjecture\", \"consider\", \"consider\", \"consider\", \"consider\", \"contain\", \"contain\", \"control\", \"control\", \"controller\", \"convert\", \"cool\", \"cop\", \"copy\", \"corporation\", \"corpse\", \"correction\", \"cost\", \"cost\", \"could\", \"could\", \"could\", \"country\", \"couple\", \"cover\", \"cover\", \"cover\", \"cpu\", \"craig\", \"crash\", \"create\", \"create\", \"crew\", \"crew\", \"crime\", \"criminal\", \"crisis\", \"crypto\", \"cub\", \"curious\", \"current\", \"current\", \"current\", \"cycle\", \"d\", \"d\", \"damage\", \"damn\", \"datum\", \"datum\", \"daughter\", \"day\", \"day\", \"day\", \"dealer\", \"death\", \"decent\", \"default\", \"default\", \"deny\", \"description\", \"design\", \"design\", \"design\", \"design\", \"destroy\", \"destroy\", \"destroy\", \"detail\", \"detail\", \"development\", \"development\", \"development\", \"development\", \"device\", \"die\", \"difference\", \"different\", \"different\", \"digital\", \"diplomatic\", \"direct\", \"disable\", \"disclaimer\", \"discount\", \"discussion\", \"disease\", \"disk\", \"display\", \"distant\", \"distribution\", \"doctor\", \"dog\", \"domain\", \"door\", \"draft\", \"draw\", \"draw\", \"draw\", \"drive\", \"driver\", \"drop\", \"drug\", \"dual\", \"earth\", \"earth\", \"eat\", \"economic\", \"effect\", \"effect\", \"effective\", \"electrical\", \"electronic\", \"email\", \"employer\", \"enable\", \"encryption\", \"engine\", \"engineer\", \"engineering\", \"engineering\", \"enough\", \"enough\", \"entry\", \"environmental\", \"era\", \"error\", \"escape\", \"escape\", \"essentially\", \"even\", \"even\", \"even\", \"even\", \"ever\", \"evidence\", \"evidently\", \"evolution\", \"exactly\", \"example\", \"example\", \"example\", \"exclude\", \"exclusion\", \"excuse\", \"exist\", \"exist\", \"expansion\", \"expensive\", \"experiment\", \"explain\", \"explain\", \"export\", \"exterminate\", \"extermination\", \"external\", \"fact\", \"fact\", \"fact\", \"failure\", \"faith\", \"family\", \"faq\", \"fascist\", \"fast\", \"feature\", \"field\", \"file\", \"find\", \"find\", \"find\", \"find\", \"firearm\", \"first\", \"first\", \"first\", \"first\", \"fit\", \"flight\", \"floppy\", \"fly\", \"fly\", \"folk\", \"follow\", \"follow\", \"follow\", \"follow\", \"font\", \"force\", \"force\", \"format\", \"free\", \"french\", \"front\", \"front\", \"front\", \"fuel\", \"fuel\", \"function\", \"functionality\", \"game\", \"general\", \"genocide\", \"get\", \"get\", \"giant\", \"gift\", \"girl\", \"give\", \"give\", \"give\", \"global\", \"go\", \"goal\", \"god\", \"good\", \"good\", \"government\", \"government\", \"government\", \"governmental\", \"graphic\", \"great\", \"great\", \"greatly_appreciate\", \"ground\", \"ground\", \"ground\", \"group\", \"guess\", \"guilty\", \"gun\", \"handle\", \"handle\", \"hardware\", \"hate\", \"have\", \"have\", \"headache\", \"health\", \"hear\", \"help\", \"help\", \"help\", \"high\", \"high\", \"high\", \"high\", \"historical\", \"hole\", \"homeland\", \"hook\", \"host\", \"hot\", \"house\", \"house\", \"however\", \"however\", \"human\", \"human\", \"ide\", \"ignore\", \"ill\", \"image\", \"imagination\", \"impedance\", \"implementation\", \"imply\", \"important\", \"improve\", \"include\", \"include\", \"include\", \"include\", \"include\", \"include\", \"increase\", \"industry\", \"inferior\", \"info\", \"information\", \"information\", \"information\", \"information\", \"initial\", \"initialize\", \"input\", \"inquisition\", \"insist\", \"instal\", \"installation\", \"insurance\", \"int\", \"interested\", \"interested\", \"interested\", \"internal\", \"israeli\", \"issue\", \"issue\", \"japanese\", \"jewish\", \"joint\", \"key\", \"keyword\", \"kill\", \"kit\", \"know\", \"know\", \"know\", \"knowledge\", \"kurdish\", \"lab\", \"laboratory\", \"land\", \"language\", \"large\", \"last\", \"launch\", \"law\", \"let\", \"level\", \"level\", \"license\", \"license\", \"lie\", \"lie\", \"lie\", \"lie\", \"life\", \"life\", \"light\", \"like\", \"like\", \"line\", \"line\", \"line\", \"link\", \"list\", \"list\", \"list\", \"listen\", \"little\", \"little\", \"live\", \"live\", \"load\", \"load\", \"local\", \"local\", \"local\", \"lock\", \"logic\", \"look\", \"look\", \"lose\", \"lot\", \"low\", \"low\", \"lunar\", \"machine\", \"machine\", \"mail\", \"make\", \"make\", \"make\", \"make\", \"male\", \"man\", \"man\", \"management\", \"manager\", \"maneuver\", \"many\", \"many\", \"many\", \"map\", \"massacre\", \"master\", \"may\", \"may\", \"maybe\", \"mean\", \"mean\", \"mean\", \"mean\", \"measure\", \"medical\", \"meet\", \"meg\", \"memory\", \"memory\", \"message\", \"message\", \"meter\", \"method\", \"method\", \"mile\", \"mine\", \"minor\", \"mirror\", \"miss\", \"mission\", \"mix\", \"moa\", \"mode\", \"mode\", \"model\", \"modem\", \"module\", \"module\", \"money\", \"money\", \"monitor\", \"moon\", \"moral\", \"motif\", \"motor\", \"mount\", \"mouse\", \"much\", \"much\", \"multiple\", \"murder\", \"must\", \"must\", \"nature\", \"need\", \"need\", \"need\", \"need\", \"needless\", \"network\", \"new\", \"new\", \"new\", \"new\", \"nicely\", \"nntp_poste\", \"nntp_posting\", \"noise\", \"non\", \"non\", \"normal\", \"normal\", \"notice\", \"nuclear_weapon\", \"number\", \"number\", \"number\", \"number\", \"number\", \"object\", \"objective\", \"objective\", \"observation\", \"observe\", \"obtain\", \"obviously\", \"offense\", \"offer\", \"offer\", \"offer\", \"office\", \"officer\", \"officer\", \"official\", \"often\", \"often\", \"old\", \"old\", \"old\", \"operate\", \"orbit\", \"orbital\", \"orbiter\", \"order\", \"order\", \"order\", \"organization\", \"organization\", \"originator\", \"other\", \"other\", \"outer\", \"output\", \"output\", \"ozone\", \"pack\", \"package\", \"page\", \"part\", \"part\", \"part\", \"partially\", \"path\", \"patient\", \"pay\", \"pc\", \"pc\", \"people\", \"people\", \"people\", \"perform\", \"perform\", \"performance\", \"period\", \"person\", \"person\", \"phone\", \"phone\", \"picture\", \"pin\", \"plan\", \"plan\", \"plane\", \"planetary\", \"platform\", \"play\", \"player\", \"please\", \"please_respond\", \"plot\", \"po_andrew\", \"point\", \"point\", \"pointer\", \"police\", \"poll\", \"poor\", \"port\", \"positively\", \"possibility\", \"post\", \"post\", \"posting\", \"potentially\", \"power\", \"power\", \"precisely\", \"predict\", \"prefer\", \"presentation\", \"press\", \"pretty\", \"previously\", \"price\", \"printer\", \"privacy\", \"private\", \"privately\", \"probe\", \"problem\", \"problem\", \"problem\", \"procedure\", \"proceed\", \"processor\", \"produce\", \"produce\", \"product\", \"production\", \"program\", \"project\", \"project\", \"project\", \"proper\", \"proposal\", \"protect\", \"protect\", \"protection\", \"provide\", \"provide\", \"provide\", \"provide\", \"provide\", \"pub\", \"public\", \"public\", \"push\", \"put\", \"quality\", \"question\", \"radiation\", \"ram\", \"range\", \"range\", \"range\", \"rate\", \"rate\", \"rather\", \"rather\", \"read\", \"read\", \"read\", \"reality\", \"really\", \"rear\", \"reason\", \"reason\", \"reason\", \"receiver\", \"reduce\", \"regardless\", \"register\", \"register\", \"registration\", \"related\", \"release\", \"release\", \"reliever\", \"religion\", \"religious\", \"remember\", \"remote\", \"remove\", \"replace\", \"reply\", \"reply\", \"reply\", \"report\", \"research\", \"resolution\", \"resource\", \"respect\", \"return\", \"return\", \"return\", \"return\", \"revelation\", \"review\", \"ride\", \"rider\", \"right\", \"right\", \"right\", \"ring\", \"road\", \"road\", \"rocket\", \"route\", \"rsa\", \"rule\", \"rule\", \"run\", \"run\", \"run\", \"runner\", \"russian\", \"russian\", \"s\", \"safe\", \"safety\", \"sale\", \"satellite\", \"saturn\", \"say\", \"say\", \"scare\", \"schedule\", \"schedule\", \"science\", \"scientific\", \"screen\", \"scsi\", \"secret\", \"section\", \"secure\", \"security\", \"see\", \"see\", \"seem\", \"seem\", \"seem\", \"segment\", \"seldom\", \"self\", \"sell\", \"send\", \"send\", \"send\", \"sense\", \"sense\", \"serdar_argic\", \"serial\", \"serial_number\", \"server\", \"session\", \"set\", \"set\", \"set\", \"shall\", \"share\", \"shuttle\", \"si\", \"signal\", \"signing\", \"sister\", \"site\", \"size\", \"sky\", \"slaughter\", \"slaughter\", \"slow\", \"small\", \"soft\", \"software\", \"solar\", \"soldier\", \"soldier\", \"somewhere\", \"soon\", \"soul\", \"sound\", \"sound\", \"source\", \"source\", \"soviet_armenian\", \"space\", \"speaker\", \"spec\", \"special\", \"specify\", \"speed\", \"standard\", \"standard\", \"standard\", \"standard\", \"standard\", \"starter\", \"state\", \"state\", \"state\", \"state\", \"static\", \"still\", \"strength\", \"study\", \"study\", \"stupid\", \"subscription\", \"sun\", \"super\", \"superior\", \"support\", \"support\", \"support\", \"surface\", \"swap\", \"switch\", \"system\", \"system\", \"system\", \"table\", \"take\", \"take\", \"talk\", \"tap\", \"tape\", \"tavare\", \"tax\", \"team\", \"tear\", \"technology\", \"technology\", \"telescope\", \"tell\", \"tell\", \"terror\", \"terrorism\", \"test\", \"thank\", \"thing\", \"thing\", \"thing\", \"think\", \"think\", \"though\", \"thought\", \"ticket\", \"time\", \"time\", \"time\", \"time\", \"timing\", \"tire\", \"today\", \"today\", \"today\", \"today\", \"tool\", \"tool\", \"town\", \"town\", \"transfer\", \"transfer\", \"transport\", \"trap\", \"treatment\", \"treatment\", \"treatment\", \"truck\", \"true\", \"true\", \"true\", \"trust\", \"truth\", \"try\", \"try\", \"try\", \"try\", \"turk\", \"turkish\", \"type\", \"type\", \"unit\", \"university\", \"unlikely\", \"up\", \"update\", \"upgrade\", \"use\", \"use\", \"use\", \"use\", \"use\", \"user\", \"user\", \"user\", \"usually\", \"usually\", \"utility\", \"value\", \"vehicle\", \"vehicle\", \"vehicle\", \"version\", \"version\", \"video\", \"view\", \"view\", \"village\", \"village\", \"violate\", \"violence\", \"voice\", \"voltage\", \"vote\", \"want\", \"want\", \"want\", \"war\", \"warn\", \"warrant\", \"warranty\", \"way\", \"way\", \"way\", \"way\", \"way\", \"weapon\", \"weight\", \"well\", \"well\", \"white\", \"whole\", \"will\", \"will\", \"win\", \"window\", \"wing\", \"woman\", \"woman\", \"work\", \"work\", \"work\", \"work\", \"work\", \"work\", \"working\", \"world\", \"world\", \"world\", \"would\", \"would\", \"would\", \"would\", \"write\", \"write\", \"write\", \"year\", \"year\", \"yesterday\", \"yet\"]}, \"R\": 30, \"lambda.step\": 0.01, \"plot.opts\": {\"xlab\": \"PC1\", \"ylab\": \"PC2\"}, \"topic.order\": [14, 16, 3, 20, 1, 10, 9, 11, 18, 2, 15, 13, 7, 19, 8, 5, 17, 4, 12, 6]};\n",
       "\n",
       "function LDAvis_load_lib(url, callback){\n",
       "  var s = document.createElement('script');\n",
       "  s.src = url;\n",
       "  s.async = true;\n",
       "  s.onreadystatechange = s.onload = callback;\n",
       "  s.onerror = function(){console.warn(\"failed to load library \" + url);};\n",
       "  document.getElementsByTagName(\"head\")[0].appendChild(s);\n",
       "}\n",
       "\n",
       "if(typeof(LDAvis) !== \"undefined\"){\n",
       "   // already loaded: just create the visualization\n",
       "   !function(LDAvis){\n",
       "       new LDAvis(\"#\" + \"ldavis_el821215363630806161119138\", ldavis_el821215363630806161119138_data);\n",
       "   }(LDAvis);\n",
       "}else if(typeof define === \"function\" && define.amd){\n",
       "   // require.js is available: use it to load d3/LDAvis\n",
       "   require.config({paths: {d3: \"https://cdnjs.cloudflare.com/ajax/libs/d3/3.5.5/d3.min\"}});\n",
       "   require([\"d3\"], function(d3){\n",
       "      window.d3 = d3;\n",
       "      LDAvis_load_lib(\"https://cdn.rawgit.com/bmabey/pyLDAvis/files/ldavis.v1.0.0.js\", function(){\n",
       "        new LDAvis(\"#\" + \"ldavis_el821215363630806161119138\", ldavis_el821215363630806161119138_data);\n",
       "      });\n",
       "    });\n",
       "}else{\n",
       "    // require.js not available: dynamically load d3 & LDAvis\n",
       "    LDAvis_load_lib(\"https://cdnjs.cloudflare.com/ajax/libs/d3/3.5.5/d3.min.js\", function(){\n",
       "         LDAvis_load_lib(\"https://cdn.rawgit.com/bmabey/pyLDAvis/files/ldavis.v1.0.0.js\", function(){\n",
       "                 new LDAvis(\"#\" + \"ldavis_el821215363630806161119138\", ldavis_el821215363630806161119138_data);\n",
       "            })\n",
       "         });\n",
       "}\n",
       "</script>"
      ],
      "text/plain": [
       "PreparedData(topic_coordinates=              x         y  topics  cluster       Freq\n",
       "topic                                                \n",
       "13     0.331041 -0.112293       1        1  33.173065\n",
       "15     0.294327 -0.096699       2        1  15.564447\n",
       "2      0.229924 -0.296871       3        1   9.374027\n",
       "19     0.223654  0.219152       4        1   8.464708\n",
       "0      0.161391  0.165038       5        1   6.709596\n",
       "9     -0.001262  0.066361       6        1   5.743227\n",
       "8      0.130197 -0.035122       7        1   4.770957\n",
       "10     0.111136  0.104576       8        1   4.084516\n",
       "17     0.025644  0.112342       9        1   2.710842\n",
       "1     -0.018522  0.133484      10        1   1.907660\n",
       "14    -0.056988  0.067664      11        1   1.577217\n",
       "12    -0.095463 -0.026290      12        1   1.320499\n",
       "6     -0.118656 -0.015068      13        1   1.121603\n",
       "18    -0.151243 -0.034224      14        1   0.824572\n",
       "7     -0.152940 -0.021997      15        1   0.616322\n",
       "4     -0.165398 -0.077148      16        1   0.518723\n",
       "16    -0.157452 -0.025417      17        1   0.505264\n",
       "3     -0.187117 -0.041671      18        1   0.443370\n",
       "11    -0.189572 -0.040034      19        1   0.400123\n",
       "5     -0.212701 -0.045782      20        1   0.169264, topic_info=     Category          Freq        Term         Total  loglift  logprob\n",
       "3760  Default  37296.000000          ax  37296.000000  30.0000  30.0000\n",
       "19    Default  14552.000000        line  14552.000000  29.0000  29.0000\n",
       "14    Default   5602.000000        host   5602.000000  28.0000  28.0000\n",
       "137   Default   7424.000000      people   7424.000000  27.0000  27.0000\n",
       "64    Default   5118.000000  nntp_poste   5118.000000  26.0000  26.0000\n",
       "...       ...           ...         ...           ...      ...      ...\n",
       "4049  Topic20      0.030351        item      1.286064   2.6350 -11.0965\n",
       "4822  Topic20      0.030351       valid      1.286072   2.6350 -11.0965\n",
       "3354  Topic20      0.030351       learn      1.286058   2.6350 -11.0965\n",
       "3718  Topic20      0.030351        food      1.286030   2.6350 -11.0965\n",
       "3469  Topic20      0.030351      choose      1.286084   2.6349 -11.0965\n",
       "\n",
       "[867 rows x 6 columns], token_table=      Topic      Freq        Term\n",
       "term                             \n",
       "1226      2  0.998781      accept\n",
       "239      16  0.974497  accidental\n",
       "1380      3  0.997779         act\n",
       "1596      3  0.913692      action\n",
       "1596      7  0.018162      action\n",
       "...     ...       ...         ...\n",
       "196       4  0.108464       write\n",
       "38        1  0.837332        year\n",
       "38        5  0.162452        year\n",
       "722       6  0.998202   yesterday\n",
       "238       1  0.998013         yet\n",
       "\n",
       "[1072 rows x 3 columns], R=30, lambda_step=0.01, plot_opts={'xlab': 'PC1', 'ylab': 'PC2'}, topic_order=[14, 16, 3, 20, 1, 10, 9, 11, 18, 2, 15, 13, 7, 19, 8, 5, 17, 4, 12, 6])"
      ]
     },
     "execution_count": 32,
     "metadata": {},
     "output_type": "execute_result"
    }
   ],
   "source": [
    "# Visualize the topics\n",
    "pyLDAvis.enable_notebook()\n",
    "vis = pyLDAvis.gensim.prepare(lda_model, corpus, id2word)\n",
    "vis"
   ]
  },
  {
   "cell_type": "code",
   "execution_count": null,
   "metadata": {},
   "outputs": [],
   "source": []
  }
 ],
 "metadata": {
  "kernelspec": {
   "display_name": "Python 3",
   "language": "python",
   "name": "python3"
  },
  "language_info": {
   "codemirror_mode": {
    "name": "ipython",
    "version": 3
   },
   "file_extension": ".py",
   "mimetype": "text/x-python",
   "name": "python",
   "nbconvert_exporter": "python",
   "pygments_lexer": "ipython3",
   "version": "3.7.4"
  }
 },
 "nbformat": 4,
 "nbformat_minor": 2
}
